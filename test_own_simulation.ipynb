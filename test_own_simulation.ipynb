{
 "cells": [
  {
   "cell_type": "code",
   "execution_count": 1,
   "id": "initial_id",
   "metadata": {
    "collapsed": true,
    "ExecuteTime": {
     "end_time": "2023-10-28T20:09:52.894529900Z",
     "start_time": "2023-10-28T20:09:52.589799900Z"
    }
   },
   "outputs": [],
   "source": [
    "import pathlib\n",
    "\n",
    "import os\n",
    "import numpy as np\n",
    "import matplotlib.pyplot as plt\n",
    "import matplotlib\n",
    "from matplotlib import animation\n",
    "from matplotlib.animation import PillowWriter\n",
    "import scienceplots\n",
    "import importlib\n",
    "\n",
    "plt.style.use(['science', 'notebook'])"
   ]
  },
  {
   "cell_type": "code",
   "execution_count": 11,
   "outputs": [
    {
     "data": {
      "text/plain": "<module 'simulation' from 'C:\\\\Users\\\\Vladimir\\\\PycharmProjects\\\\StatPhys\\\\simulation.py'>"
     },
     "execution_count": 11,
     "metadata": {},
     "output_type": "execute_result"
    }
   ],
   "source": [
    "import simulation\n",
    "importlib.reload(simulation)"
   ],
   "metadata": {
    "collapsed": false,
    "ExecuteTime": {
     "end_time": "2023-10-28T20:12:00.791344500Z",
     "start_time": "2023-10-28T20:12:00.778086200Z"
    }
   },
   "id": "f6c4da9168f2bfe5"
  },
  {
   "cell_type": "code",
   "execution_count": 15,
   "outputs": [],
   "source": [
    "n_particles = 10\n",
    "\n",
    "r = np.random.uniform(size=(2,n_particles))\n",
    "v = np.zeros_like(r)\n",
    "# v = np.random.uniform(low=-500, high=500, size=(2,n_particles))\n",
    "# m = torch.ones((n_particles, )).to(device)\n",
    "m = np.ones((n_particles, )) * (10 ** (-5))\n",
    "m[0] = 10 ** (-4)\n",
    "m[1] = 10 ** (-4)\n",
    "\n",
    "l_0 = 0.1\n",
    "\n",
    "frames_c = 500"
   ],
   "metadata": {
    "collapsed": false,
    "ExecuteTime": {
     "end_time": "2023-10-28T20:12:19.509029600Z",
     "start_time": "2023-10-28T20:12:19.491141600Z"
    }
   },
   "id": "14667e3da379f759"
  },
  {
   "cell_type": "markdown",
   "source": [
    "Формула расчета скорости при столкновении:\n",
    "$v_1^{(new)} = v_1 - \\langle \\frac{2m_2}{m_1 + m_2} (v_1 - v_2), r_1 - r_2 \\rangle \\cdot \\frac{r_1 - r_2}{{\\lVert r_1 - r_2 \\rVert}^2}$\n",
    "$v_2^{(new)} = v_2 - \\langle \\frac{2m_1}{m_1 + m_2} (v_1 - v_2), r_1 - r_2 \\rangle \\cdot \\frac{r_1 - r_2}{{\\lVert r_1 - r_2 \\rVert}^2}$"
   ],
   "metadata": {
    "collapsed": false
   },
   "id": "b96d695d1fb3800b"
  },
  {
   "cell_type": "code",
   "execution_count": 16,
   "outputs": [],
   "source": [
    "ixr = r[0]>0.5 #right\n",
    "ixl = r[0]<=0.5 #left\n",
    "\n",
    "v[0][ixr] = -500\n",
    "v[0][ixl] = 500"
   ],
   "metadata": {
    "collapsed": false,
    "ExecuteTime": {
     "end_time": "2023-10-28T20:12:20.333338100Z",
     "start_time": "2023-10-28T20:12:20.324825700Z"
    }
   },
   "id": "73cb0f206bd555ad"
  },
  {
   "cell_type": "code",
   "execution_count": 17,
   "outputs": [
    {
     "data": {
      "text/plain": "array([[ 500., -500., -500., -500., -500.,  500.,  500.,  500., -500.,\n        -500.],\n       [   0.,    0.,    0.,    0.,    0.,    0.,    0.,    0.,    0.,\n           0.]])"
     },
     "execution_count": 17,
     "metadata": {},
     "output_type": "execute_result"
    }
   ],
   "source": [
    "v"
   ],
   "metadata": {
    "collapsed": false,
    "ExecuteTime": {
     "end_time": "2023-10-28T20:12:21.066453700Z",
     "start_time": "2023-10-28T20:12:21.058454600Z"
    }
   },
   "id": "2fccc8ac889f06fd"
  },
  {
   "cell_type": "code",
   "execution_count": 18,
   "outputs": [],
   "source": [
    "sim = simulation.Simulation(\n",
    "    gamma=1.0,\n",
    "    k=100,\n",
    "    l_0=0.1,\n",
    "    R=0.005,\n",
    "    R_spring=0.05,\n",
    "    r=r[:, 2:],\n",
    "    r_spring=r[:, 0:2],\n",
    "    v=v[:, 2:],\n",
    "    v_spring=v[:, 0:2],\n",
    "    m=m[2:],\n",
    "    m_spring=m[0:2]\n",
    ")"
   ],
   "metadata": {
    "collapsed": false,
    "ExecuteTime": {
     "end_time": "2023-10-28T20:12:22.235017100Z",
     "start_time": "2023-10-28T20:12:22.227258600Z"
    }
   },
   "id": "1f393ef0a2b1b595"
  },
  {
   "cell_type": "code",
   "execution_count": 19,
   "outputs": [],
   "source": [
    "radius = 0.005\n",
    "# rs, vs, fs = sim.motion(r, v, ids_pairs, ts=frames_c, dt=0.000008, d_cutoff=2*radius, k=100)\n",
    "rs = np.zeros((frames_c, 2, n_particles))\n",
    "vs = np.zeros((frames_c, 2, n_particles))\n",
    "fs = np.zeros((frames_c, ))\n",
    "\n",
    "for i in range(frames_c):\n",
    "    new_r, new_r_spr, new_v, new_v_spr, new_f = next(sim)\n",
    "    rs[i, :, 0:2] = new_r_spr\n",
    "    rs[i, :, 2:] = new_r\n",
    "    vs[i, :, 0:2] = new_v_spr\n",
    "    vs[i, :, 2:] = new_v\n",
    "    fs[i] = np.linalg.norm(new_f)"
   ],
   "metadata": {
    "collapsed": false,
    "ExecuteTime": {
     "end_time": "2023-10-28T20:12:24.043387500Z",
     "start_time": "2023-10-28T20:12:23.986658800Z"
    }
   },
   "id": "fd8e296684d8fea8"
  },
  {
   "cell_type": "code",
   "execution_count": 20,
   "outputs": [
    {
     "data": {
      "text/plain": "<Figure size 500x500 with 1 Axes>",
      "image/png": "[encoded data removed]"
     },
     "metadata": {},
     "output_type": "display_data"
    }
   ],
   "source": [
    "fig, ax = plt.subplots(1,1,figsize=(5,5))\n",
    "xred, yred = rs[0][0][ixr], rs[0][1][ixr]\n",
    "xblue, yblue = rs[0][0][ixl],rs[0][1][ixl]\n",
    "circles_red = [plt.Circle((xi, yi), radius=radius, linewidth=0) for xi,yi in zip(xred,yred)]\n",
    "circles_blue = [plt.Circle((xi, yi), radius=radius, linewidth=0) for xi,yi in zip(xblue,yblue)]\n",
    "cred = matplotlib.collections.PatchCollection(circles_red, facecolors='red')\n",
    "cblue = matplotlib.collections.PatchCollection(circles_blue, facecolors='blue')\n",
    "ax.add_collection(cred)\n",
    "ax.add_collection(cblue)\n",
    "ax.set_xlim(0,1)\n",
    "ax.set_ylim(0,1)\n",
    "plt.show()"
   ],
   "metadata": {
    "collapsed": false,
    "ExecuteTime": {
     "end_time": "2023-10-28T20:12:27.505242100Z",
     "start_time": "2023-10-28T20:12:27.396243100Z"
    }
   },
   "id": "9a05d2a92558315b"
  },
  {
   "cell_type": "code",
   "execution_count": 21,
   "outputs": [],
   "source": [
    "# fig, ax = plt.subplots(1,1,figsize=(5,5))\n",
    "# ax.clear()\n",
    "# vmin = 0\n",
    "# vmax = 1\n",
    "# ax.set_xlim(0,1)\n",
    "# ax.set_ylim(0,1)\n",
    "# markersize = 2 * radius * ax.get_window_extent().width  / (vmax-vmin) * 72./fig.dpi\n",
    "# \n",
    "# spring, = ax.plot([], [], 'o', color='black', markersize=10*markersize)\n",
    "# red, = ax.plot([], [], 'o', color='red', markersize=markersize)\n",
    "# blue, = ax.plot([], [], 'o', color='blue', markersize=markersize)\n",
    "# \n",
    "# def animate(i):\n",
    "#     print(f\"{i=}\")\n",
    "#     xred, yred = rs[i][0][ixr].cpu(), rs[i][1][ixr].cpu()\n",
    "#     xblue, yblue = rs[i][0][ixl].cpu(),rs[i][1][ixl].cpu()\n",
    "#     x_spring, y_spring = rs[i][0][0:2].cpu(), rs[i][1][0:2].cpu()\n",
    "#     red.set_data(xred, yred)\n",
    "#     blue.set_data(xblue, yblue)\n",
    "#     spring.set_data(x_spring, y_spring)\n",
    "#     return red, blue\n",
    "# \n",
    "# # writer = animation.FFMpegWriter(fps=30)\n",
    "# ani = animation.FuncAnimation(fig, animate, frames=1_000, interval=25, blit=True)\n",
    "# path = pathlib.Path('./anim_brown_spring.gif')\n",
    "# ani.save(path, dpi=100)"
   ],
   "metadata": {
    "collapsed": false,
    "ExecuteTime": {
     "end_time": "2023-10-28T20:12:28.300410700Z",
     "start_time": "2023-10-28T20:12:28.280412900Z"
    }
   },
   "id": "9870e26b0b70590e"
  },
  {
   "cell_type": "code",
   "execution_count": 22,
   "outputs": [
    {
     "name": "stdout",
     "output_type": "stream",
     "text": [
      "Process: 0/500\n",
      "Process: 0/500\n",
      "Process: 10/500\n",
      "Process: 20/500\n",
      "Process: 30/500\n",
      "Process: 40/500\n",
      "Process: 50/500\n",
      "Process: 60/500\n",
      "Process: 70/500\n",
      "Process: 80/500\n",
      "Process: 90/500\n",
      "Process: 100/500\n",
      "Process: 110/500\n",
      "Process: 120/500\n",
      "Process: 130/500\n",
      "Process: 140/500\n",
      "Process: 150/500\n",
      "Process: 160/500\n",
      "Process: 170/500\n",
      "Process: 180/500\n",
      "Process: 190/500\n",
      "Process: 200/500\n",
      "Process: 210/500\n",
      "Process: 220/500\n",
      "Process: 230/500\n",
      "Process: 240/500\n",
      "Process: 250/500\n",
      "Process: 260/500\n",
      "Process: 270/500\n",
      "Process: 280/500\n",
      "Process: 290/500\n",
      "Process: 300/500\n",
      "Process: 310/500\n",
      "Process: 320/500\n",
      "Process: 330/500\n",
      "Process: 340/500\n",
      "Process: 350/500\n",
      "Process: 360/500\n",
      "Process: 370/500\n",
      "Process: 380/500\n",
      "Process: 390/500\n",
      "Process: 400/500\n",
      "Process: 410/500\n",
      "Process: 420/500\n",
      "Process: 430/500\n",
      "Process: 440/500\n",
      "Process: 450/500\n",
      "Process: 460/500\n",
      "Process: 470/500\n",
      "Process: 480/500\n",
      "Process: 490/500\n",
      "Process: 0/500\n"
     ]
    },
    {
     "data": {
      "text/plain": "<Figure size 1000x500 with 2 Axes>",
      "image/png": "[encoded data removed]"
     },
     "metadata": {},
     "output_type": "display_data"
    }
   ],
   "source": [
    "fig, ax = plt.subplots(1,2,figsize=(10,5))\n",
    "ax[0].clear()\n",
    "ax[1].clear()\n",
    "vmin = 0\n",
    "vmax = 1\n",
    "\n",
    "# x_lim = (torch.min(rs[:, 0, :]).cpu() - 1, torch.max(rs[:, 0, :]).cpu() + 1)\n",
    "# y_lim = (torch.min(rs[:, 1, :]).cpu() - 1, torch.max(rs[:, 1, :]).cpu() + 1)\n",
    "\n",
    "x_lim, y_lim = (0, 1), (0, 1)\n",
    "\n",
    "markersize = 2 * radius * ax[0].get_window_extent().width  / (vmax-vmin) * 72./fig.dpi\n",
    "spring, = ax[0].plot([], [], 'o', color='black', markersize=10*markersize)\n",
    "red, = ax[0].plot([], [], 'o', color='red', markersize=markersize)\n",
    "blue, = ax[0].plot([], [], 'o', color='blue', markersize=markersize)\n",
    "force, = ax[1].plot([], [], color='k')\n",
    "\n",
    "def animate(i):\n",
    "    if i % 10 == 0:\n",
    "        print(f\"Process: {i}/{frames_c}\")\n",
    "    xred, yred = rs[i][0][ixr], rs[i][1][ixr]\n",
    "    xblue, yblue = rs[i][0][ixl],rs[i][1][ixl]\n",
    "    x_spring, y_spring = rs[i][0][0:2], rs[i][1][0:2]\n",
    "    # red.set_data(xred, yred)\n",
    "    # blue.set_data(xblue, yblue)\n",
    "    # force.set_data(np.arange(1_000)[0:i], fs.norm(dim=1)[0:i])\n",
    "    # return [(red, blue), force]\n",
    "\n",
    "    ax[0].clear()\n",
    "    ax[1].clear()\n",
    "\n",
    "    ax[0].scatter(xred, yred, color='red')\n",
    "    ax[0].scatter(xblue, yblue, color='blue')\n",
    "    ax[0].scatter(x_spring, y_spring, color='black', s=5*(plt.rcParams['lines.markersize'] ** 2))\n",
    "    # ax[1].plot(np.arange(10_000)[0:i], fs.norm(dim=1)[0:i])\n",
    "    ax[1].plot(np.arange(10_000)[0:i], fs[0:i])\n",
    "\n",
    "    ax[0].set_xlim(x_lim)\n",
    "    ax[0].set_ylim(y_lim)\n",
    "\n",
    "writer = animation.FFMpegWriter(fps=30)\n",
    "ani = animation.FuncAnimation(fig, animate, frames=frames_c, interval=25, blit=False)\n",
    "path = pathlib.Path('./anim_brown_spring_own.mp4')\n",
    "ani.save(path, writer=writer, dpi=100)"
   ],
   "metadata": {
    "collapsed": false,
    "ExecuteTime": {
     "end_time": "2023-10-28T20:13:51.529200200Z",
     "start_time": "2023-10-28T20:12:28.722958600Z"
    }
   },
   "id": "21e94da21359235a"
  },
  {
   "cell_type": "code",
   "execution_count": 10,
   "outputs": [
    {
     "ename": "AttributeError",
     "evalue": "'numpy.ndarray' object has no attribute 'norm'",
     "output_type": "error",
     "traceback": [
      "\u001B[1;31m---------------------------------------------------------------------------\u001B[0m",
      "\u001B[1;31mAttributeError\u001B[0m                            Traceback (most recent call last)",
      "Cell \u001B[1;32mIn[10], line 1\u001B[0m\n\u001B[1;32m----> 1\u001B[0m plt\u001B[38;5;241m.\u001B[39mplot(np\u001B[38;5;241m.\u001B[39marange(frames_c), \u001B[43mfs\u001B[49m\u001B[38;5;241;43m.\u001B[39;49m\u001B[43mnorm\u001B[49m(dim\u001B[38;5;241m=\u001B[39m\u001B[38;5;241m1\u001B[39m)\u001B[38;5;241m.\u001B[39mcpu())\n",
      "\u001B[1;31mAttributeError\u001B[0m: 'numpy.ndarray' object has no attribute 'norm'"
     ]
    }
   ],
   "source": [
    "plt.plot(np.arange(frames_c), fs.norm(dim=1).cpu())"
   ],
   "metadata": {
    "collapsed": false,
    "ExecuteTime": {
     "end_time": "2023-10-28T20:11:07.988475200Z",
     "start_time": "2023-10-28T20:11:07.785150300Z"
    }
   },
   "id": "9a11f7b831e8a8a6"
  },
  {
   "cell_type": "code",
   "execution_count": null,
   "outputs": [],
   "source": [
    "plt.rcParams['lines.markersize'] ** 2"
   ],
   "metadata": {
    "collapsed": false,
    "ExecuteTime": {
     "end_time": "2023-10-28T20:11:07.989475500Z",
     "start_time": "2023-10-28T20:11:07.988475200Z"
    }
   },
   "id": "1caceaec00d9fa53"
  },
  {
   "cell_type": "code",
   "execution_count": null,
   "outputs": [],
   "source": [
    "# force.min()"
   ],
   "metadata": {
    "collapsed": false,
    "ExecuteTime": {
     "end_time": "2023-10-28T20:11:07.990474100Z",
     "start_time": "2023-10-28T20:11:07.989475500Z"
    }
   },
   "id": "adcd91f64ca0a2a4"
  },
  {
   "cell_type": "code",
   "execution_count": null,
   "outputs": [],
   "source": [
    "from scipy import fft"
   ],
   "metadata": {
    "collapsed": false,
    "ExecuteTime": {
     "end_time": "2023-10-28T20:11:07.990474100Z",
     "start_time": "2023-10-28T20:11:07.990474100Z"
    }
   },
   "id": "c52102b368215c0d"
  },
  {
   "cell_type": "code",
   "execution_count": null,
   "outputs": [],
   "source": [
    "# force = fs.norm(dim=1).cpu().numpy()\n",
    "force = fs.cpu()\n",
    "force -= (force[-1] - force[0]) * np.linspace(0, 1, num=frames_c) + force[0]\n",
    "force_fft = fft.fft(force)"
   ],
   "metadata": {
    "collapsed": false,
    "ExecuteTime": {
     "end_time": "2023-10-28T20:11:07.991476200Z",
     "start_time": "2023-10-28T20:11:07.991476200Z"
    }
   },
   "id": "aca48c160d553a55"
  },
  {
   "cell_type": "code",
   "execution_count": null,
   "outputs": [],
   "source": [
    "plt.plot(force_fft[10000:-10000])"
   ],
   "metadata": {
    "collapsed": false,
    "ExecuteTime": {
     "start_time": "2023-10-28T20:11:07.992474600Z"
    }
   },
   "id": "421955d316bce27c"
  },
  {
   "cell_type": "code",
   "execution_count": null,
   "outputs": [],
   "source": [
    "force[-1]"
   ],
   "metadata": {
    "collapsed": false,
    "ExecuteTime": {
     "start_time": "2023-10-28T20:11:07.993477100Z"
    }
   },
   "id": "7770f059c8d68d5"
  },
  {
   "cell_type": "code",
   "execution_count": null,
   "outputs": [],
   "source": [
    "torch.range(start=0, end=10)"
   ],
   "metadata": {
    "collapsed": false,
    "ExecuteTime": {
     "start_time": "2023-10-28T20:11:07.994474Z"
    }
   },
   "id": "bb24a665635bf506"
  },
  {
   "cell_type": "code",
   "execution_count": null,
   "outputs": [],
   "source": [],
   "metadata": {
    "collapsed": false,
    "ExecuteTime": {
     "start_time": "2023-10-28T20:11:07.995474Z"
    }
   },
   "id": "8b1db592efb01560"
  }
 ],
 "metadata": {
  "kernelspec": {
   "display_name": "Python 3",
   "language": "python",
   "name": "python3"
  },
  "language_info": {
   "codemirror_mode": {
    "name": "ipython",
    "version": 2
   },
   "file_extension": ".py",
   "mimetype": "text/x-python",
   "name": "python",
   "nbconvert_exporter": "python",
   "pygments_lexer": "ipython2",
   "version": "2.7.6"
  }
 },
 "nbformat": 4,
 "nbformat_minor": 5
}
