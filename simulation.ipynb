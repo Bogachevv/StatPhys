{
 "cells": [
  {
   "cell_type": "code",
   "execution_count": 1,
   "id": "initial_id",
   "metadata": {
    "collapsed": true,
    "ExecuteTime": {
     "end_time": "2023-10-28T19:54:22.932285Z",
     "start_time": "2023-10-28T19:54:17.107520700Z"
    }
   },
   "outputs": [],
   "source": [
    "import pathlib\n",
    "\n",
    "import torch\n",
    "import os\n",
    "import numpy as np\n",
    "import matplotlib.pyplot as plt\n",
    "import matplotlib\n",
    "from matplotlib import animation\n",
    "from matplotlib.animation import PillowWriter\n",
    "import scienceplots\n",
    "plt.style.use(['science', 'notebook'])\n",
    "device = torch.device('cuda' if torch.cuda.is_available() else 'cpu')"
   ]
  },
  {
   "cell_type": "code",
   "execution_count": 2,
   "outputs": [
    {
     "data": {
      "text/plain": "device(type='cuda')"
     },
     "execution_count": 2,
     "metadata": {},
     "output_type": "execute_result"
    }
   ],
   "source": [
    "device"
   ],
   "metadata": {
    "collapsed": false,
    "ExecuteTime": {
     "end_time": "2023-10-28T19:54:22.939615300Z",
     "start_time": "2023-10-28T19:54:22.934250200Z"
    }
   },
   "id": "f6c4da9168f2bfe5"
  },
  {
   "cell_type": "code",
   "execution_count": 3,
   "outputs": [],
   "source": [
    "device = torch.device('cpu')"
   ],
   "metadata": {
    "collapsed": false,
    "ExecuteTime": {
     "end_time": "2023-10-28T19:54:22.941707Z",
     "start_time": "2023-10-28T19:54:22.940614900Z"
    }
   },
   "id": "9090cd63ae96f012"
  },
  {
   "cell_type": "code",
   "execution_count": 4,
   "outputs": [],
   "source": [
    "n_particles = 250\n",
    "\n",
    "r = torch.rand((2,n_particles)).to(device)\n",
    "v = torch.rand((2,n_particles)).to(device)\n",
    "# m = torch.ones((n_particles, )).to(device)\n",
    "m = torch.ones((n_particles, )).to(device) * (10 ** (-5))\n",
    "m[0] = 10 ** (-4)\n",
    "m[1] = 10 ** (-4)\n",
    "\n",
    "l_0 = 0.1\n",
    "\n",
    "frames_c = 500"
   ],
   "metadata": {
    "collapsed": false,
    "ExecuteTime": {
     "end_time": "2023-10-28T19:54:23.014226700Z",
     "start_time": "2023-10-28T19:54:22.943703200Z"
    }
   },
   "id": "14667e3da379f759"
  },
  {
   "cell_type": "code",
   "execution_count": 5,
   "outputs": [],
   "source": [
    "ids = torch.arange(n_particles)"
   ],
   "metadata": {
    "collapsed": false,
    "ExecuteTime": {
     "end_time": "2023-10-28T19:54:23.025227Z",
     "start_time": "2023-10-28T19:54:22.983214500Z"
    }
   },
   "id": "40ab438244cabb72"
  },
  {
   "cell_type": "code",
   "execution_count": 6,
   "outputs": [],
   "source": [
    "ids_pairs = torch.combinations(ids,2).to(device)"
   ],
   "metadata": {
    "collapsed": false,
    "ExecuteTime": {
     "end_time": "2023-10-28T19:54:23.026227100Z",
     "start_time": "2023-10-28T19:54:22.983214500Z"
    }
   },
   "id": "87723fa0e97d939b"
  },
  {
   "cell_type": "code",
   "execution_count": 10,
   "outputs": [
    {
     "data": {
      "text/plain": "(torch.Size([2, 250]), torch.Size([31125, 2]))"
     },
     "execution_count": 10,
     "metadata": {},
     "output_type": "execute_result"
    }
   ],
   "source": [
    "r.shape, ids_pairs.shape"
   ],
   "metadata": {
    "collapsed": false,
    "ExecuteTime": {
     "end_time": "2023-10-28T19:56:19.296129600Z",
     "start_time": "2023-10-28T19:56:19.284614400Z"
    }
   },
   "id": "28559d9abf1f1e1a"
  },
  {
   "cell_type": "code",
   "execution_count": 13,
   "outputs": [
    {
     "data": {
      "text/plain": "tensor(248)"
     },
     "execution_count": 13,
     "metadata": {},
     "output_type": "execute_result"
    }
   ],
   "source": [
    "torch.max(ids_pairs[:,0])"
   ],
   "metadata": {
    "collapsed": false,
    "ExecuteTime": {
     "end_time": "2023-10-28T19:57:49.686898500Z",
     "start_time": "2023-10-28T19:57:49.675197200Z"
    }
   },
   "id": "7401f9d33d5ff78b"
  },
  {
   "cell_type": "markdown",
   "source": [
    "Формула расчета скорости при столкновении:\n",
    "$v_1^{(new)} = v_1 - \\langle \\frac{2m_2}{m_1 + m_2} (v_1 - v_2), r_1 - r_2 \\rangle \\cdot \\frac{r_1 - r_2}{{\\lVert r_1 - r_2 \\rVert}^2}$\n",
    "$v_2^{(new)} = v_2 - \\langle \\frac{2m_1}{m_1 + m_2} (v_1 - v_2), r_1 - r_2 \\rangle \\cdot \\frac{r_1 - r_2}{{\\lVert r_1 - r_2 \\rVert}^2}$"
   ],
   "metadata": {
    "collapsed": false
   },
   "id": "b96d695d1fb3800b"
  },
  {
   "cell_type": "code",
   "execution_count": 7,
   "outputs": [],
   "source": [
    "def get_deltad2_pairs(r, ids_pairs):\n",
    "    dx = torch.diff(torch.stack([r[0][ids_pairs[:,0]], r[0][ids_pairs[:,1]]]).T).squeeze()\n",
    "    dy = torch.diff(torch.stack([r[1][ids_pairs[:,0]], r[1][ids_pairs[:,1]]]).T).squeeze()\n",
    "    return dx**2 + dy**2\n",
    "\n",
    "def compute_new_v(v1, v2, r1, r2, m1, m2):\n",
    "    # v1new = v1 - torch.sum((v1-v2)*(r1-r2), axis=0)/torch.sum((r1-r2)**2, axis=0) * (r1-r2)\n",
    "    # v2new = v2 - torch.sum((v1-v2)*(r1-r2), axis=0)/torch.sum((r2-r1)**2, axis=0) * (r2-r1)\n",
    "    \n",
    "    m_s = m1 + m2\n",
    "    dr = r1 - r2\n",
    "    dr_norm_sq = torch.norm(dr, dim=0) ** 2\n",
    "    # print(f\"{v1.shape}\")\n",
    "    # print(f\"{dr_norm.shape=}\")\n",
    "    # v1new = v1 - torch.dot((2*m2/m_s)*v1 + (m1 - m2)/m_s * v2, dr) * dr / dr_norm\n",
    "    # v2new = v2 - torch.dot((2*m1/m_s)*v2 + (m2 - m1)/m_s * v1, dr) * dr / dr_norm\n",
    "    \n",
    "    v1new = v1 - (torch.sum((2*m2/m_s) * (v1 - v2) * dr, axis=0) * dr) / dr_norm_sq\n",
    "    v2new = v2 - (torch.sum((2*m1/m_s) * (v2 - v1) * dr, axis=0) * dr) / dr_norm_sq\n",
    "    \n",
    "    return v1new, v2new\n",
    "\n",
    "def motion(r, v, id_pairs, ts, dt, d_cutoff, k: float = 50):\n",
    "    rs = torch.zeros((ts, r.shape[0], r.shape[1])).to(device)\n",
    "    vs = torch.zeros((ts, v.shape[0], v.shape[1])).to(device)\n",
    "    # fs = torch.zeros((ts, r.shape[0])).to(device)\n",
    "    fs = torch.zeros((ts, )).to(device)\n",
    "    \n",
    "    # Initial State\n",
    "    rs[0] = r\n",
    "    vs[0] = v\n",
    "    for i in range(1,ts):\n",
    "        ic = id_pairs[get_deltad2_pairs(r, ids_pairs) < d_cutoff**2]\n",
    "        \n",
    "        # v *= m\n",
    "        v[:,ic[:,0]], v[:,ic[:,1]] = compute_new_v(v[:,ic[:,0]], v[:,ic[:,1]], r[:,ic[:,0]], r[:,ic[:,1]], m[ic[:,0]], m[ic[:,1]])\n",
    "        # v /= m\n",
    "        \n",
    "        dr = r[:, 0] - r[:, 1]\n",
    "        dr_sc = dr.norm()\n",
    "        f = dr * (k * (1 - l_0/ dr_sc))\n",
    "        v[:, 0] -= f * (dt / m[0]) \n",
    "        v[:, 1] += f * (dt / m[1])\n",
    "        \n",
    "        v[0,r[0]>1] = -torch.abs(v[0,r[0]>1])\n",
    "        v[0,r[0]<0] = torch.abs(v[0,r[0]<0])\n",
    "        v[1,r[1]>1] = -torch.abs(v[1,r[1]>1])\n",
    "        v[1,r[1]<0] = torch.abs(v[1,r[1]<0])\n",
    "        \n",
    "        r = r + v*dt\n",
    "        rs[i] = r\n",
    "        vs[i] = v\n",
    "        fs[i] = f.norm() * torch.sign(torch.dot(f, dr))\n",
    "        \n",
    "    return rs, vs, fs"
   ],
   "metadata": {
    "collapsed": false,
    "ExecuteTime": {
     "end_time": "2023-10-25T20:04:24.871722400Z",
     "start_time": "2023-10-25T20:04:24.833272700Z"
    }
   },
   "id": "c2483ae19fca9a0"
  },
  {
   "cell_type": "code",
   "execution_count": 8,
   "outputs": [],
   "source": [
    "ixr = r[0]>0.5 #right\n",
    "ixl = r[0]<=0.5 #left\n",
    "\n",
    "v[0][ixr] = -500\n",
    "v[0][ixl] = 500"
   ],
   "metadata": {
    "collapsed": false,
    "ExecuteTime": {
     "end_time": "2023-10-25T20:04:24.881722200Z",
     "start_time": "2023-10-25T20:04:24.844265200Z"
    }
   },
   "id": "73cb0f206bd555ad"
  },
  {
   "cell_type": "code",
   "execution_count": 9,
   "outputs": [],
   "source": [
    "radius = 0.005\n",
    "rs, vs, fs = motion(r, v, ids_pairs, ts=frames_c, dt=0.000008, d_cutoff=2*radius, k=100)"
   ],
   "metadata": {
    "collapsed": false,
    "ExecuteTime": {
     "end_time": "2023-10-25T20:04:25.334230700Z",
     "start_time": "2023-10-25T20:04:24.847722800Z"
    }
   },
   "id": "fd8e296684d8fea8"
  },
  {
   "cell_type": "code",
   "execution_count": 10,
   "outputs": [
    {
     "data": {
      "text/plain": "<Figure size 500x500 with 1 Axes>",
      "image/png": "[encoded data removed]"
     },
     "metadata": {},
     "output_type": "display_data"
    }
   ],
   "source": [
    "fig, ax = plt.subplots(1,1,figsize=(5,5))\n",
    "xred, yred = rs[0][0][ixr], rs[0][1][ixr]\n",
    "xblue, yblue = rs[0][0][ixl],rs[0][1][ixl]\n",
    "circles_red = [plt.Circle((xi, yi), radius=radius, linewidth=0) for xi,yi in zip(xred,yred)]\n",
    "circles_blue = [plt.Circle((xi, yi), radius=radius, linewidth=0) for xi,yi in zip(xblue,yblue)]\n",
    "cred = matplotlib.collections.PatchCollection(circles_red, facecolors='red')\n",
    "cblue = matplotlib.collections.PatchCollection(circles_blue, facecolors='blue')\n",
    "ax.add_collection(cred)\n",
    "ax.add_collection(cblue)\n",
    "ax.set_xlim(0,1)\n",
    "ax.set_ylim(0,1)\n",
    "plt.show()"
   ],
   "metadata": {
    "collapsed": false,
    "ExecuteTime": {
     "end_time": "2023-10-25T20:04:25.517900Z",
     "start_time": "2023-10-25T20:04:25.335230500Z"
    }
   },
   "id": "9a05d2a92558315b"
  },
  {
   "cell_type": "code",
   "execution_count": 11,
   "outputs": [],
   "source": [
    "# fig, ax = plt.subplots(1,1,figsize=(5,5))\n",
    "# ax.clear()\n",
    "# vmin = 0\n",
    "# vmax = 1\n",
    "# ax.set_xlim(0,1)\n",
    "# ax.set_ylim(0,1)\n",
    "# markersize = 2 * radius * ax.get_window_extent().width  / (vmax-vmin) * 72./fig.dpi\n",
    "# \n",
    "# spring, = ax.plot([], [], 'o', color='black', markersize=10*markersize)\n",
    "# red, = ax.plot([], [], 'o', color='red', markersize=markersize)\n",
    "# blue, = ax.plot([], [], 'o', color='blue', markersize=markersize)\n",
    "# \n",
    "# def animate(i):\n",
    "#     print(f\"{i=}\")\n",
    "#     xred, yred = rs[i][0][ixr].cpu(), rs[i][1][ixr].cpu()\n",
    "#     xblue, yblue = rs[i][0][ixl].cpu(),rs[i][1][ixl].cpu()\n",
    "#     x_spring, y_spring = rs[i][0][0:2].cpu(), rs[i][1][0:2].cpu()\n",
    "#     red.set_data(xred, yred)\n",
    "#     blue.set_data(xblue, yblue)\n",
    "#     spring.set_data(x_spring, y_spring)\n",
    "#     return red, blue\n",
    "# \n",
    "# # writer = animation.FFMpegWriter(fps=30)\n",
    "# ani = animation.FuncAnimation(fig, animate, frames=1_000, interval=25, blit=True)\n",
    "# path = pathlib.Path('./anim_brown_spring.gif')\n",
    "# ani.save(path, dpi=100)"
   ],
   "metadata": {
    "collapsed": false,
    "ExecuteTime": {
     "end_time": "2023-10-25T20:04:25.525935400Z",
     "start_time": "2023-10-25T20:04:25.517900Z"
    }
   },
   "id": "9870e26b0b70590e"
  },
  {
   "cell_type": "code",
   "execution_count": 12,
   "outputs": [
    {
     "name": "stdout",
     "output_type": "stream",
     "text": [
      "Process: 0/500\n",
      "Process: 0/500\n",
      "Process: 10/500\n",
      "Process: 20/500\n",
      "Process: 30/500\n",
      "Process: 40/500\n",
      "Process: 50/500\n",
      "Process: 60/500\n",
      "Process: 70/500\n",
      "Process: 80/500\n",
      "Process: 90/500\n",
      "Process: 100/500\n",
      "Process: 110/500\n",
      "Process: 120/500\n",
      "Process: 130/500\n",
      "Process: 140/500\n",
      "Process: 150/500\n",
      "Process: 160/500\n",
      "Process: 170/500\n",
      "Process: 180/500\n",
      "Process: 190/500\n",
      "Process: 200/500\n",
      "Process: 210/500\n",
      "Process: 220/500\n",
      "Process: 230/500\n",
      "Process: 240/500\n",
      "Process: 250/500\n",
      "Process: 260/500\n",
      "Process: 270/500\n",
      "Process: 280/500\n",
      "Process: 290/500\n",
      "Process: 300/500\n",
      "Process: 310/500\n",
      "Process: 320/500\n",
      "Process: 330/500\n",
      "Process: 340/500\n",
      "Process: 350/500\n",
      "Process: 360/500\n",
      "Process: 370/500\n",
      "Process: 380/500\n",
      "Process: 390/500\n",
      "Process: 400/500\n",
      "Process: 410/500\n",
      "Process: 420/500\n",
      "Process: 430/500\n",
      "Process: 440/500\n",
      "Process: 450/500\n",
      "Process: 460/500\n",
      "Process: 470/500\n",
      "Process: 480/500\n",
      "Process: 490/500\n",
      "Process: 0/500\n"
     ]
    },
    {
     "data": {
      "text/plain": "<Figure size 1000x500 with 2 Axes>",
      "image/png": "[encoded data removed]"
     },
     "metadata": {},
     "output_type": "display_data"
    }
   ],
   "source": [
    "fig, ax = plt.subplots(1,2,figsize=(10,5))\n",
    "ax[0].clear()\n",
    "ax[1].clear()\n",
    "vmin = 0\n",
    "vmax = 1\n",
    "\n",
    "# x_lim = (torch.min(rs[:, 0, :]).cpu() - 1, torch.max(rs[:, 0, :]).cpu() + 1)\n",
    "# y_lim = (torch.min(rs[:, 1, :]).cpu() - 1, torch.max(rs[:, 1, :]).cpu() + 1)\n",
    "\n",
    "x_lim, y_lim = (0, 1), (0, 1)\n",
    "\n",
    "markersize = 2 * radius * ax[0].get_window_extent().width  / (vmax-vmin) * 72./fig.dpi\n",
    "spring, = ax[0].plot([], [], 'o', color='black', markersize=10*markersize)\n",
    "red, = ax[0].plot([], [], 'o', color='red', markersize=markersize)\n",
    "blue, = ax[0].plot([], [], 'o', color='blue', markersize=markersize)\n",
    "force, = ax[1].plot([], [], color='k')\n",
    "\n",
    "def animate(i):\n",
    "    if i % 10 == 0:\n",
    "        print(f\"Process: {i}/{frames_c}\")\n",
    "    xred, yred = rs[i][0][ixr].cpu(), rs[i][1][ixr].cpu()\n",
    "    xblue, yblue = rs[i][0][ixl].cpu(),rs[i][1][ixl].cpu()\n",
    "    x_spring, y_spring = rs[i][0][0:2].cpu(), rs[i][1][0:2].cpu()\n",
    "    # red.set_data(xred, yred)\n",
    "    # blue.set_data(xblue, yblue)\n",
    "    # force.set_data(np.arange(1_000)[0:i], fs.norm(dim=1).cpu()[0:i])\n",
    "    # return [(red, blue), force]\n",
    "\n",
    "    ax[0].clear()\n",
    "    ax[1].clear()\n",
    "\n",
    "    ax[0].scatter(xred, yred, color='red')\n",
    "    ax[0].scatter(xblue, yblue, color='blue')\n",
    "    ax[0].scatter(x_spring, y_spring, color='black', s=5*(plt.rcParams['lines.markersize'] ** 2))\n",
    "    # ax[1].plot(np.arange(10_000)[0:i], fs.norm(dim=1).cpu()[0:i])\n",
    "    ax[1].plot(np.arange(10_000)[0:i], fs.cpu()[0:i])\n",
    "\n",
    "    ax[0].set_xlim(x_lim)\n",
    "    ax[0].set_ylim(y_lim)\n",
    "\n",
    "writer = animation.FFMpegWriter(fps=30)\n",
    "ani = animation.FuncAnimation(fig, animate, frames=frames_c, interval=25, blit=False)\n",
    "path = pathlib.Path('./anim_brown_spring.mp4')\n",
    "ani.save(path, writer=writer, dpi=100)"
   ],
   "metadata": {
    "collapsed": false,
    "ExecuteTime": {
     "end_time": "2023-10-25T20:05:47.631825600Z",
     "start_time": "2023-10-25T20:04:25.524933300Z"
    }
   },
   "id": "21e94da21359235a"
  },
  {
   "cell_type": "code",
   "execution_count": 13,
   "outputs": [
    {
     "ename": "IndexError",
     "evalue": "Dimension out of range (expected to be in range of [-1, 0], but got 1)",
     "output_type": "error",
     "traceback": [
      "\u001B[1;31m---------------------------------------------------------------------------\u001B[0m",
      "\u001B[1;31mIndexError\u001B[0m                                Traceback (most recent call last)",
      "Cell \u001B[1;32mIn[13], line 1\u001B[0m\n\u001B[1;32m----> 1\u001B[0m plt\u001B[38;5;241m.\u001B[39mplot(np\u001B[38;5;241m.\u001B[39marange(frames_c), \u001B[43mfs\u001B[49m\u001B[38;5;241;43m.\u001B[39;49m\u001B[43mnorm\u001B[49m\u001B[43m(\u001B[49m\u001B[43mdim\u001B[49m\u001B[38;5;241;43m=\u001B[39;49m\u001B[38;5;241;43m1\u001B[39;49m\u001B[43m)\u001B[49m\u001B[38;5;241m.\u001B[39mcpu())\n",
      "File \u001B[1;32mC:\\python_venv\\Lib\\site-packages\\torch\\_tensor.py:647\u001B[0m, in \u001B[0;36mTensor.norm\u001B[1;34m(self, p, dim, keepdim, dtype)\u001B[0m\n\u001B[0;32m    643\u001B[0m \u001B[38;5;28;01mif\u001B[39;00m has_torch_function_unary(\u001B[38;5;28mself\u001B[39m):\n\u001B[0;32m    644\u001B[0m     \u001B[38;5;28;01mreturn\u001B[39;00m handle_torch_function(\n\u001B[0;32m    645\u001B[0m         Tensor\u001B[38;5;241m.\u001B[39mnorm, (\u001B[38;5;28mself\u001B[39m,), \u001B[38;5;28mself\u001B[39m, p\u001B[38;5;241m=\u001B[39mp, dim\u001B[38;5;241m=\u001B[39mdim, keepdim\u001B[38;5;241m=\u001B[39mkeepdim, dtype\u001B[38;5;241m=\u001B[39mdtype\n\u001B[0;32m    646\u001B[0m     )\n\u001B[1;32m--> 647\u001B[0m \u001B[38;5;28;01mreturn\u001B[39;00m \u001B[43mtorch\u001B[49m\u001B[38;5;241;43m.\u001B[39;49m\u001B[43mnorm\u001B[49m\u001B[43m(\u001B[49m\u001B[38;5;28;43mself\u001B[39;49m\u001B[43m,\u001B[49m\u001B[43m \u001B[49m\u001B[43mp\u001B[49m\u001B[43m,\u001B[49m\u001B[43m \u001B[49m\u001B[43mdim\u001B[49m\u001B[43m,\u001B[49m\u001B[43m \u001B[49m\u001B[43mkeepdim\u001B[49m\u001B[43m,\u001B[49m\u001B[43m \u001B[49m\u001B[43mdtype\u001B[49m\u001B[38;5;241;43m=\u001B[39;49m\u001B[43mdtype\u001B[49m\u001B[43m)\u001B[49m\n",
      "File \u001B[1;32mC:\\python_venv\\Lib\\site-packages\\torch\\functional.py:1501\u001B[0m, in \u001B[0;36mnorm\u001B[1;34m(input, p, dim, keepdim, out, dtype)\u001B[0m\n\u001B[0;32m   1499\u001B[0m \u001B[38;5;28;01mif\u001B[39;00m p \u001B[38;5;241m==\u001B[39m \u001B[38;5;124m\"\u001B[39m\u001B[38;5;124mfro\u001B[39m\u001B[38;5;124m\"\u001B[39m \u001B[38;5;129;01mand\u001B[39;00m (dim \u001B[38;5;129;01mis\u001B[39;00m \u001B[38;5;28;01mNone\u001B[39;00m \u001B[38;5;129;01mor\u001B[39;00m \u001B[38;5;28misinstance\u001B[39m(dim, \u001B[38;5;28mint\u001B[39m) \u001B[38;5;129;01mor\u001B[39;00m \u001B[38;5;28mlen\u001B[39m(dim) \u001B[38;5;241m<\u001B[39m\u001B[38;5;241m=\u001B[39m \u001B[38;5;241m2\u001B[39m):\n\u001B[0;32m   1500\u001B[0m     \u001B[38;5;28;01mif\u001B[39;00m out \u001B[38;5;129;01mis\u001B[39;00m \u001B[38;5;28;01mNone\u001B[39;00m:\n\u001B[1;32m-> 1501\u001B[0m         \u001B[38;5;28;01mreturn\u001B[39;00m \u001B[43mtorch\u001B[49m\u001B[38;5;241;43m.\u001B[39;49m\u001B[43mlinalg\u001B[49m\u001B[38;5;241;43m.\u001B[39;49m\u001B[43mvector_norm\u001B[49m\u001B[43m(\u001B[49m\u001B[38;5;28;43minput\u001B[39;49m\u001B[43m,\u001B[49m\u001B[43m \u001B[49m\u001B[38;5;241;43m2\u001B[39;49m\u001B[43m,\u001B[49m\u001B[43m \u001B[49m\u001B[43m_dim\u001B[49m\u001B[43m,\u001B[49m\u001B[43m \u001B[49m\u001B[43mkeepdim\u001B[49m\u001B[43m,\u001B[49m\u001B[43m \u001B[49m\u001B[43mdtype\u001B[49m\u001B[38;5;241;43m=\u001B[39;49m\u001B[43mdtype\u001B[49m\u001B[43m)\u001B[49m\n\u001B[0;32m   1502\u001B[0m     \u001B[38;5;28;01melse\u001B[39;00m:\n\u001B[0;32m   1503\u001B[0m         \u001B[38;5;28;01mreturn\u001B[39;00m torch\u001B[38;5;241m.\u001B[39mlinalg\u001B[38;5;241m.\u001B[39mvector_norm(\u001B[38;5;28minput\u001B[39m, \u001B[38;5;241m2\u001B[39m, _dim, keepdim, dtype\u001B[38;5;241m=\u001B[39mdtype, out\u001B[38;5;241m=\u001B[39mout)\n",
      "\u001B[1;31mIndexError\u001B[0m: Dimension out of range (expected to be in range of [-1, 0], but got 1)"
     ]
    }
   ],
   "source": [
    "plt.plot(np.arange(frames_c), fs.norm(dim=1).cpu())"
   ],
   "metadata": {
    "collapsed": false,
    "ExecuteTime": {
     "end_time": "2023-10-25T20:05:48.305798900Z",
     "start_time": "2023-10-25T20:05:47.631825600Z"
    }
   },
   "id": "9a11f7b831e8a8a6"
  },
  {
   "cell_type": "code",
   "execution_count": null,
   "outputs": [],
   "source": [
    "plt.rcParams['lines.markersize'] ** 2"
   ],
   "metadata": {
    "collapsed": false,
    "ExecuteTime": {
     "end_time": "2023-10-25T20:05:48.315013200Z",
     "start_time": "2023-10-25T20:05:48.306799Z"
    }
   },
   "id": "1caceaec00d9fa53"
  },
  {
   "cell_type": "code",
   "execution_count": null,
   "outputs": [],
   "source": [
    "# force.min()"
   ],
   "metadata": {
    "collapsed": false,
    "ExecuteTime": {
     "start_time": "2023-10-25T20:05:48.307797500Z"
    }
   },
   "id": "adcd91f64ca0a2a4"
  },
  {
   "cell_type": "code",
   "execution_count": null,
   "outputs": [],
   "source": [
    "from scipy import fft"
   ],
   "metadata": {
    "collapsed": false,
    "ExecuteTime": {
     "start_time": "2023-10-25T20:05:48.308798500Z"
    }
   },
   "id": "c52102b368215c0d"
  },
  {
   "cell_type": "code",
   "execution_count": null,
   "outputs": [],
   "source": [
    "# force = fs.norm(dim=1).cpu().numpy()\n",
    "force = fs.cpu()\n",
    "force -= (force[-1] - force[0]) * np.linspace(0, 1, num=frames_c) + force[0]\n",
    "force_fft = fft.fft(force)"
   ],
   "metadata": {
    "collapsed": false,
    "ExecuteTime": {
     "start_time": "2023-10-25T20:05:48.309797100Z"
    }
   },
   "id": "aca48c160d553a55"
  },
  {
   "cell_type": "code",
   "execution_count": null,
   "outputs": [],
   "source": [
    "plt.plot(force_fft[10000:-10000])"
   ],
   "metadata": {
    "collapsed": false,
    "ExecuteTime": {
     "start_time": "2023-10-25T20:05:48.309797100Z"
    }
   },
   "id": "421955d316bce27c"
  },
  {
   "cell_type": "code",
   "execution_count": null,
   "outputs": [],
   "source": [
    "force[-1]"
   ],
   "metadata": {
    "collapsed": false,
    "ExecuteTime": {
     "start_time": "2023-10-25T20:05:48.311153400Z"
    }
   },
   "id": "7770f059c8d68d5"
  },
  {
   "cell_type": "code",
   "execution_count": null,
   "outputs": [],
   "source": [
    "torch.range(start=0, end=10)"
   ],
   "metadata": {
    "collapsed": false,
    "ExecuteTime": {
     "start_time": "2023-10-25T20:05:48.312018Z"
    }
   },
   "id": "bb24a665635bf506"
  },
  {
   "cell_type": "code",
   "execution_count": null,
   "outputs": [],
   "source": [],
   "metadata": {
    "collapsed": false,
    "ExecuteTime": {
     "start_time": "2023-10-25T20:05:48.313016300Z"
    }
   },
   "id": "8b1db592efb01560"
  }
 ],
 "metadata": {
  "kernelspec": {
   "display_name": "Python 3",
   "language": "python",
   "name": "python3"
  },
  "language_info": {
   "codemirror_mode": {
    "name": "ipython",
    "version": 2
   },
   "file_extension": ".py",
   "mimetype": "text/x-python",
   "name": "python",
   "nbconvert_exporter": "python",
   "pygments_lexer": "ipython2",
   "version": "2.7.6"
  }
 },
 "nbformat": 4,
 "nbformat_minor": 5
}
