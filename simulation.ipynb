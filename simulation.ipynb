{
 "cells": [
  {
   "cell_type": "code",
   "execution_count": 1,
   "id": "initial_id",
   "metadata": {
    "collapsed": true,
    "ExecuteTime": {
     "end_time": "2023-10-25T15:33:38.153838400Z",
     "start_time": "2023-10-25T15:33:36.534810400Z"
    }
   },
   "outputs": [],
   "source": [
    "import pathlib\n",
    "\n",
    "import torch\n",
    "import os\n",
    "import numpy as np\n",
    "import matplotlib.pyplot as plt\n",
    "import matplotlib\n",
    "from matplotlib import animation\n",
    "from matplotlib.animation import PillowWriter\n",
    "import scienceplots\n",
    "plt.style.use(['science', 'notebook'])\n",
    "device = torch.device('cuda' if torch.cuda.is_available() else 'cpu')"
   ]
  },
  {
   "cell_type": "code",
   "execution_count": 2,
   "outputs": [
    {
     "data": {
      "text/plain": "device(type='cuda')"
     },
     "execution_count": 2,
     "metadata": {},
     "output_type": "execute_result"
    }
   ],
   "source": [
    "device"
   ],
   "metadata": {
    "collapsed": false,
    "ExecuteTime": {
     "end_time": "2023-10-25T15:33:38.159931300Z",
     "start_time": "2023-10-25T15:33:38.154838100Z"
    }
   },
   "id": "f6c4da9168f2bfe5"
  },
  {
   "cell_type": "code",
   "execution_count": 3,
   "outputs": [],
   "source": [
    "# device = torch.device('cpu')"
   ],
   "metadata": {
    "collapsed": false,
    "ExecuteTime": {
     "end_time": "2023-10-25T15:33:38.165945600Z",
     "start_time": "2023-10-25T15:33:38.158932600Z"
    }
   },
   "id": "9090cd63ae96f012"
  },
  {
   "cell_type": "code",
   "execution_count": 4,
   "outputs": [],
   "source": [
    "n_particles = 50\n",
    "\n",
    "r = torch.rand((2,n_particles)).to(device)\n",
    "v = torch.rand((2,n_particles)).to(device)\n",
    "m = torch.ones((n_particles, )).to(device) * (10 ** (-5))\n",
    "m[0] = 10 ** (-4)\n",
    "m[1] = 10 ** (-4)\n",
    "\n",
    "l_0 = 0.1\n",
    "\n",
    "frames_c = 2_500"
   ],
   "metadata": {
    "collapsed": false,
    "ExecuteTime": {
     "end_time": "2023-10-25T15:33:39.066397300Z",
     "start_time": "2023-10-25T15:33:38.161945200Z"
    }
   },
   "id": "14667e3da379f759"
  },
  {
   "cell_type": "code",
   "execution_count": 5,
   "outputs": [],
   "source": [
    "ids = torch.arange(n_particles)"
   ],
   "metadata": {
    "collapsed": false,
    "ExecuteTime": {
     "end_time": "2023-10-25T15:33:39.073324700Z",
     "start_time": "2023-10-25T15:33:39.068398300Z"
    }
   },
   "id": "40ab438244cabb72"
  },
  {
   "cell_type": "code",
   "execution_count": 6,
   "outputs": [],
   "source": [
    "ids_pairs = torch.combinations(ids,2).to(device)"
   ],
   "metadata": {
    "collapsed": false,
    "ExecuteTime": {
     "end_time": "2023-10-25T15:33:39.074326500Z",
     "start_time": "2023-10-25T15:33:39.070398500Z"
    }
   },
   "id": "87723fa0e97d939b"
  },
  {
   "cell_type": "code",
   "execution_count": 7,
   "outputs": [],
   "source": [
    "def get_deltad2_pairs(r, ids_pairs):\n",
    "    dx = torch.diff(torch.stack([r[0][ids_pairs[:,0]], r[0][ids_pairs[:,1]]]).T).squeeze()\n",
    "    dy = torch.diff(torch.stack([r[1][ids_pairs[:,0]], r[1][ids_pairs[:,1]]]).T).squeeze()\n",
    "    return dx**2 + dy**2\n",
    "\n",
    "def compute_new_v(v1, v2, r1, r2):\n",
    "    v1new = v1 - torch.sum((v1-v2)*(r1-r2), axis=0)/torch.sum((r1-r2)**2, axis=0) * (r1-r2)\n",
    "    v2new = v2 - torch.sum((v1-v2)*(r1-r2), axis=0)/torch.sum((r2-r1)**2, axis=0) * (r2-r1)\n",
    "    return v1new, v2new\n",
    "\n",
    "def motion(r, v, id_pairs, ts, dt, d_cutoff, k: float = 50):\n",
    "    rs = torch.zeros((ts, r.shape[0], r.shape[1])).to(device)\n",
    "    vs = torch.zeros((ts, v.shape[0], v.shape[1])).to(device)\n",
    "    # fs = torch.zeros((ts, r.shape[0])).to(device)\n",
    "    fs = torch.zeros((ts, )).to(device)\n",
    "    \n",
    "    # Initial State\n",
    "    rs[0] = r\n",
    "    vs[0] = v\n",
    "    for i in range(1,ts):\n",
    "        ic = id_pairs[get_deltad2_pairs(r, ids_pairs) < d_cutoff**2]\n",
    "        \n",
    "        v *= m\n",
    "        v[:,ic[:,0]], v[:,ic[:,1]] = compute_new_v(v[:,ic[:,0]], v[:,ic[:,1]], r[:,ic[:,0]], r[:,ic[:,1]])\n",
    "        v /= m\n",
    "        \n",
    "        dr = r[:, 0] - r[:, 1]\n",
    "        dr_sc = dr.norm()\n",
    "        f = dr * (k * (1 - l_0/ dr_sc))\n",
    "        v[:, 0] -= f * (dt / m[0]) \n",
    "        v[:, 1] += f * (dt / m[1])\n",
    "        \n",
    "        v[0,r[0]>1] = -torch.abs(v[0,r[0]>1])\n",
    "        v[0,r[0]<0] = torch.abs(v[0,r[0]<0])\n",
    "        v[1,r[1]>1] = -torch.abs(v[1,r[1]>1])\n",
    "        v[1,r[1]<0] = torch.abs(v[1,r[1]<0])\n",
    "        \n",
    "        r = r + v*dt\n",
    "        rs[i] = r\n",
    "        vs[i] = v\n",
    "        fs[i] = f.norm() * torch.sign(torch.dot(f, dr))\n",
    "        \n",
    "    return rs, vs, fs"
   ],
   "metadata": {
    "collapsed": false,
    "ExecuteTime": {
     "end_time": "2023-10-25T15:33:39.084102Z",
     "start_time": "2023-10-25T15:33:39.074326500Z"
    }
   },
   "id": "c2483ae19fca9a0"
  },
  {
   "cell_type": "code",
   "execution_count": 8,
   "outputs": [],
   "source": [
    "ixr = r[0]>0.5 #right\n",
    "ixl = r[0]<=0.5 #left\n",
    "\n",
    "v[0][ixr] = -500\n",
    "v[0][ixl] = 500"
   ],
   "metadata": {
    "collapsed": false,
    "ExecuteTime": {
     "end_time": "2023-10-25T15:33:39.089760800Z",
     "start_time": "2023-10-25T15:33:39.085102Z"
    }
   },
   "id": "73cb0f206bd555ad"
  },
  {
   "cell_type": "code",
   "execution_count": 9,
   "outputs": [],
   "source": [
    "radius = 0.005\n",
    "rs, vs, fs = motion(r, v, ids_pairs, ts=frames_c, dt=0.000008, d_cutoff=2*radius, k=100)"
   ],
   "metadata": {
    "collapsed": false,
    "ExecuteTime": {
     "end_time": "2023-10-25T15:33:43.741454600Z",
     "start_time": "2023-10-25T15:33:39.087763Z"
    }
   },
   "id": "fd8e296684d8fea8"
  },
  {
   "cell_type": "code",
   "execution_count": 10,
   "outputs": [
    {
     "data": {
      "text/plain": "<Figure size 500x500 with 1 Axes>",
      "image/png": "[encoded data removed]"
     },
     "metadata": {},
     "output_type": "display_data"
    }
   ],
   "source": [
    "fig, ax = plt.subplots(1,1,figsize=(5,5))\n",
    "xred, yred = rs[0][0][ixr], rs[0][1][ixr]\n",
    "xblue, yblue = rs[0][0][ixl],rs[0][1][ixl]\n",
    "circles_red = [plt.Circle((xi, yi), radius=radius, linewidth=0) for xi,yi in zip(xred,yred)]\n",
    "circles_blue = [plt.Circle((xi, yi), radius=radius, linewidth=0) for xi,yi in zip(xblue,yblue)]\n",
    "cred = matplotlib.collections.PatchCollection(circles_red, facecolors='red')\n",
    "cblue = matplotlib.collections.PatchCollection(circles_blue, facecolors='blue')\n",
    "ax.add_collection(cred)\n",
    "ax.add_collection(cblue)\n",
    "ax.set_xlim(0,1)\n",
    "ax.set_ylim(0,1)\n",
    "plt.show()"
   ],
   "metadata": {
    "collapsed": false,
    "ExecuteTime": {
     "end_time": "2023-10-25T15:33:43.882885500Z",
     "start_time": "2023-10-25T15:33:43.741454600Z"
    }
   },
   "id": "9a05d2a92558315b"
  },
  {
   "cell_type": "code",
   "execution_count": 11,
   "outputs": [],
   "source": [
    "# fig, ax = plt.subplots(1,1,figsize=(5,5))\n",
    "# ax.clear()\n",
    "# vmin = 0\n",
    "# vmax = 1\n",
    "# ax.set_xlim(0,1)\n",
    "# ax.set_ylim(0,1)\n",
    "# markersize = 2 * radius * ax.get_window_extent().width  / (vmax-vmin) * 72./fig.dpi\n",
    "# \n",
    "# spring, = ax.plot([], [], 'o', color='black', markersize=10*markersize)\n",
    "# red, = ax.plot([], [], 'o', color='red', markersize=markersize)\n",
    "# blue, = ax.plot([], [], 'o', color='blue', markersize=markersize)\n",
    "# \n",
    "# def animate(i):\n",
    "#     print(f\"{i=}\")\n",
    "#     xred, yred = rs[i][0][ixr].cpu(), rs[i][1][ixr].cpu()\n",
    "#     xblue, yblue = rs[i][0][ixl].cpu(),rs[i][1][ixl].cpu()\n",
    "#     x_spring, y_spring = rs[i][0][0:2].cpu(), rs[i][1][0:2].cpu()\n",
    "#     red.set_data(xred, yred)\n",
    "#     blue.set_data(xblue, yblue)\n",
    "#     spring.set_data(x_spring, y_spring)\n",
    "#     return red, blue\n",
    "# \n",
    "# # writer = animation.FFMpegWriter(fps=30)\n",
    "# ani = animation.FuncAnimation(fig, animate, frames=1_000, interval=25, blit=True)\n",
    "# path = pathlib.Path('./anim_brown_spring.gif')\n",
    "# ani.save(path, dpi=100)"
   ],
   "metadata": {
    "collapsed": false,
    "ExecuteTime": {
     "end_time": "2023-10-25T15:33:43.882885500Z",
     "start_time": "2023-10-25T15:33:43.878789300Z"
    }
   },
   "id": "9870e26b0b70590e"
  },
  {
   "cell_type": "code",
   "execution_count": 12,
   "outputs": [
    {
     "name": "stdout",
     "output_type": "stream",
     "text": [
      "Process: 0/2500\n",
      "Process: 0/2500\n",
      "Process: 10/2500\n",
      "Process: 20/2500\n",
      "Process: 30/2500\n",
      "Process: 40/2500\n",
      "Process: 50/2500\n",
      "Process: 60/2500\n",
      "Process: 70/2500\n",
      "Process: 80/2500\n",
      "Process: 90/2500\n",
      "Process: 100/2500\n",
      "Process: 110/2500\n",
      "Process: 120/2500\n",
      "Process: 130/2500\n",
      "Process: 140/2500\n",
      "Process: 150/2500\n",
      "Process: 160/2500\n",
      "Process: 170/2500\n",
      "Process: 180/2500\n",
      "Process: 190/2500\n",
      "Process: 200/2500\n",
      "Process: 210/2500\n",
      "Process: 220/2500\n",
      "Process: 230/2500\n",
      "Process: 240/2500\n",
      "Process: 250/2500\n",
      "Process: 260/2500\n",
      "Process: 270/2500\n",
      "Process: 280/2500\n",
      "Process: 290/2500\n",
      "Process: 300/2500\n",
      "Process: 310/2500\n",
      "Process: 320/2500\n",
      "Process: 330/2500\n",
      "Process: 340/2500\n",
      "Process: 350/2500\n",
      "Process: 360/2500\n",
      "Process: 370/2500\n",
      "Process: 380/2500\n",
      "Process: 390/2500\n",
      "Process: 400/2500\n",
      "Process: 410/2500\n",
      "Process: 420/2500\n",
      "Process: 430/2500\n",
      "Process: 440/2500\n",
      "Process: 450/2500\n",
      "Process: 460/2500\n",
      "Process: 470/2500\n",
      "Process: 480/2500\n",
      "Process: 490/2500\n",
      "Process: 500/2500\n",
      "Process: 510/2500\n",
      "Process: 520/2500\n",
      "Process: 530/2500\n",
      "Process: 540/2500\n",
      "Process: 550/2500\n",
      "Process: 560/2500\n",
      "Process: 570/2500\n",
      "Process: 580/2500\n",
      "Process: 590/2500\n",
      "Process: 600/2500\n",
      "Process: 610/2500\n",
      "Process: 620/2500\n",
      "Process: 630/2500\n",
      "Process: 640/2500\n",
      "Process: 650/2500\n",
      "Process: 660/2500\n",
      "Process: 670/2500\n",
      "Process: 680/2500\n",
      "Process: 690/2500\n",
      "Process: 700/2500\n",
      "Process: 710/2500\n",
      "Process: 720/2500\n",
      "Process: 730/2500\n",
      "Process: 740/2500\n",
      "Process: 750/2500\n",
      "Process: 760/2500\n",
      "Process: 770/2500\n",
      "Process: 780/2500\n",
      "Process: 790/2500\n",
      "Process: 800/2500\n",
      "Process: 810/2500\n",
      "Process: 820/2500\n",
      "Process: 830/2500\n",
      "Process: 840/2500\n",
      "Process: 850/2500\n",
      "Process: 860/2500\n",
      "Process: 870/2500\n",
      "Process: 880/2500\n",
      "Process: 890/2500\n",
      "Process: 900/2500\n",
      "Process: 910/2500\n",
      "Process: 920/2500\n",
      "Process: 930/2500\n",
      "Process: 940/2500\n",
      "Process: 950/2500\n",
      "Process: 960/2500\n",
      "Process: 970/2500\n",
      "Process: 980/2500\n",
      "Process: 990/2500\n",
      "Process: 1000/2500\n",
      "Process: 1010/2500\n",
      "Process: 1020/2500\n",
      "Process: 1030/2500\n",
      "Process: 1040/2500\n",
      "Process: 1050/2500\n",
      "Process: 1060/2500\n",
      "Process: 1070/2500\n",
      "Process: 1080/2500\n",
      "Process: 1090/2500\n",
      "Process: 1100/2500\n",
      "Process: 1110/2500\n",
      "Process: 1120/2500\n",
      "Process: 1130/2500\n",
      "Process: 1140/2500\n",
      "Process: 1150/2500\n",
      "Process: 1160/2500\n",
      "Process: 1170/2500\n",
      "Process: 1180/2500\n",
      "Process: 1190/2500\n",
      "Process: 1200/2500\n",
      "Process: 1210/2500\n",
      "Process: 1220/2500\n",
      "Process: 1230/2500\n",
      "Process: 1240/2500\n",
      "Process: 1250/2500\n",
      "Process: 1260/2500\n",
      "Process: 1270/2500\n",
      "Process: 1280/2500\n",
      "Process: 1290/2500\n",
      "Process: 1300/2500\n",
      "Process: 1310/2500\n",
      "Process: 1320/2500\n",
      "Process: 1330/2500\n",
      "Process: 1340/2500\n",
      "Process: 1350/2500\n",
      "Process: 1360/2500\n",
      "Process: 1370/2500\n",
      "Process: 1380/2500\n",
      "Process: 1390/2500\n",
      "Process: 1400/2500\n",
      "Process: 1410/2500\n",
      "Process: 1420/2500\n",
      "Process: 1430/2500\n",
      "Process: 1440/2500\n",
      "Process: 1450/2500\n",
      "Process: 1460/2500\n",
      "Process: 1470/2500\n",
      "Process: 1480/2500\n",
      "Process: 1490/2500\n",
      "Process: 1500/2500\n",
      "Process: 1510/2500\n",
      "Process: 1520/2500\n",
      "Process: 1530/2500\n",
      "Process: 1540/2500\n",
      "Process: 1550/2500\n",
      "Process: 1560/2500\n",
      "Process: 1570/2500\n",
      "Process: 1580/2500\n",
      "Process: 1590/2500\n",
      "Process: 1600/2500\n",
      "Process: 1610/2500\n",
      "Process: 1620/2500\n",
      "Process: 1630/2500\n",
      "Process: 1640/2500\n",
      "Process: 1650/2500\n",
      "Process: 1660/2500\n",
      "Process: 1670/2500\n",
      "Process: 1680/2500\n",
      "Process: 1690/2500\n",
      "Process: 1700/2500\n",
      "Process: 1710/2500\n",
      "Process: 1720/2500\n",
      "Process: 1730/2500\n",
      "Process: 1740/2500\n",
      "Process: 1750/2500\n",
      "Process: 1760/2500\n",
      "Process: 1770/2500\n",
      "Process: 1780/2500\n",
      "Process: 1790/2500\n",
      "Process: 1800/2500\n",
      "Process: 1810/2500\n",
      "Process: 1820/2500\n",
      "Process: 1830/2500\n",
      "Process: 1840/2500\n",
      "Process: 1850/2500\n",
      "Process: 1860/2500\n",
      "Process: 1870/2500\n",
      "Process: 1880/2500\n",
      "Process: 1890/2500\n",
      "Process: 1900/2500\n",
      "Process: 1910/2500\n",
      "Process: 1920/2500\n",
      "Process: 1930/2500\n",
      "Process: 1940/2500\n",
      "Process: 1950/2500\n",
      "Process: 1960/2500\n",
      "Process: 1970/2500\n",
      "Process: 1980/2500\n",
      "Process: 1990/2500\n",
      "Process: 2000/2500\n",
      "Process: 2010/2500\n",
      "Process: 2020/2500\n",
      "Process: 2030/2500\n",
      "Process: 2040/2500\n",
      "Process: 2050/2500\n",
      "Process: 2060/2500\n",
      "Process: 2070/2500\n",
      "Process: 2080/2500\n",
      "Process: 2090/2500\n",
      "Process: 2100/2500\n",
      "Process: 2110/2500\n",
      "Process: 2120/2500\n",
      "Process: 2130/2500\n",
      "Process: 2140/2500\n",
      "Process: 2150/2500\n",
      "Process: 2160/2500\n",
      "Process: 2170/2500\n",
      "Process: 2180/2500\n",
      "Process: 2190/2500\n",
      "Process: 2200/2500\n",
      "Process: 2210/2500\n",
      "Process: 2220/2500\n",
      "Process: 2230/2500\n",
      "Process: 2240/2500\n",
      "Process: 2250/2500\n",
      "Process: 2260/2500\n",
      "Process: 2270/2500\n",
      "Process: 2280/2500\n",
      "Process: 2290/2500\n",
      "Process: 2300/2500\n",
      "Process: 2310/2500\n",
      "Process: 2320/2500\n",
      "Process: 2330/2500\n",
      "Process: 2340/2500\n",
      "Process: 2350/2500\n",
      "Process: 2360/2500\n",
      "Process: 2370/2500\n",
      "Process: 2380/2500\n",
      "Process: 2390/2500\n",
      "Process: 2400/2500\n",
      "Process: 2410/2500\n",
      "Process: 2420/2500\n",
      "Process: 2430/2500\n",
      "Process: 2440/2500\n",
      "Process: 2450/2500\n",
      "Process: 2460/2500\n",
      "Process: 2470/2500\n",
      "Process: 2480/2500\n",
      "Process: 2490/2500\n",
      "Process: 0/2500\n"
     ]
    },
    {
     "data": {
      "text/plain": "<Figure size 1000x500 with 2 Axes>",
      "image/png": "[encoded data removed]"
     },
     "metadata": {},
     "output_type": "display_data"
    }
   ],
   "source": [
    "fig, ax = plt.subplots(1,2,figsize=(10,5))\n",
    "ax[0].clear()\n",
    "ax[1].clear()\n",
    "vmin = 0\n",
    "vmax = 1\n",
    "\n",
    "# x_lim = (torch.min(rs[:, 0, :]).cpu() - 1, torch.max(rs[:, 0, :]).cpu() + 1)\n",
    "# y_lim = (torch.min(rs[:, 1, :]).cpu() - 1, torch.max(rs[:, 1, :]).cpu() + 1)\n",
    "\n",
    "x_lim, y_lim = (0, 1), (0, 1)\n",
    "\n",
    "markersize = 2 * radius * ax[0].get_window_extent().width  / (vmax-vmin) * 72./fig.dpi\n",
    "spring, = ax[0].plot([], [], 'o', color='black', markersize=10*markersize)\n",
    "red, = ax[0].plot([], [], 'o', color='red', markersize=markersize)\n",
    "blue, = ax[0].plot([], [], 'o', color='blue', markersize=markersize)\n",
    "force, = ax[1].plot([], [], color='k')\n",
    "\n",
    "def animate(i):\n",
    "    if i % 10 == 0:\n",
    "        print(f\"Process: {i}/{frames_c}\")\n",
    "    xred, yred = rs[i][0][ixr].cpu(), rs[i][1][ixr].cpu()\n",
    "    xblue, yblue = rs[i][0][ixl].cpu(),rs[i][1][ixl].cpu()\n",
    "    x_spring, y_spring = rs[i][0][0:2].cpu(), rs[i][1][0:2].cpu()\n",
    "    # red.set_data(xred, yred)\n",
    "    # blue.set_data(xblue, yblue)\n",
    "    # force.set_data(np.arange(1_000)[0:i], fs.norm(dim=1).cpu()[0:i])\n",
    "    # return [(red, blue), force]\n",
    "\n",
    "    ax[0].clear()\n",
    "    ax[1].clear()\n",
    "\n",
    "    ax[0].scatter(xred, yred, color='red')\n",
    "    ax[0].scatter(xblue, yblue, color='blue')\n",
    "    ax[0].scatter(x_spring, y_spring, color='black', s=5*(plt.rcParams['lines.markersize'] ** 2))\n",
    "    # ax[1].plot(np.arange(10_000)[0:i], fs.norm(dim=1).cpu()[0:i])\n",
    "    ax[1].plot(np.arange(10_000)[0:i], fs.cpu()[0:i])\n",
    "\n",
    "    ax[0].set_xlim(x_lim)\n",
    "    ax[0].set_ylim(y_lim)\n",
    "\n",
    "writer = animation.FFMpegWriter(fps=30)\n",
    "ani = animation.FuncAnimation(fig, animate, frames=frames_c, interval=25, blit=False)\n",
    "path = pathlib.Path('./anim_brown_spring.mp4')\n",
    "ani.save(path, writer=writer, dpi=100)"
   ],
   "metadata": {
    "collapsed": false,
    "ExecuteTime": {
     "end_time": "2023-10-25T15:40:57.452482100Z",
     "start_time": "2023-10-25T15:33:43.880926700Z"
    }
   },
   "id": "21e94da21359235a"
  },
  {
   "cell_type": "code",
   "execution_count": 13,
   "outputs": [
    {
     "ename": "IndexError",
     "evalue": "Dimension out of range (expected to be in range of [-1, 0], but got 1)",
     "output_type": "error",
     "traceback": [
      "\u001B[1;31m---------------------------------------------------------------------------\u001B[0m",
      "\u001B[1;31mIndexError\u001B[0m                                Traceback (most recent call last)",
      "Cell \u001B[1;32mIn[13], line 1\u001B[0m\n\u001B[1;32m----> 1\u001B[0m plt\u001B[38;5;241m.\u001B[39mplot(np\u001B[38;5;241m.\u001B[39marange(frames_c), \u001B[43mfs\u001B[49m\u001B[38;5;241;43m.\u001B[39;49m\u001B[43mnorm\u001B[49m\u001B[43m(\u001B[49m\u001B[43mdim\u001B[49m\u001B[38;5;241;43m=\u001B[39;49m\u001B[38;5;241;43m1\u001B[39;49m\u001B[43m)\u001B[49m\u001B[38;5;241m.\u001B[39mcpu())\n",
      "File \u001B[1;32mC:\\python_venv\\Lib\\site-packages\\torch\\_tensor.py:647\u001B[0m, in \u001B[0;36mTensor.norm\u001B[1;34m(self, p, dim, keepdim, dtype)\u001B[0m\n\u001B[0;32m    643\u001B[0m \u001B[38;5;28;01mif\u001B[39;00m has_torch_function_unary(\u001B[38;5;28mself\u001B[39m):\n\u001B[0;32m    644\u001B[0m     \u001B[38;5;28;01mreturn\u001B[39;00m handle_torch_function(\n\u001B[0;32m    645\u001B[0m         Tensor\u001B[38;5;241m.\u001B[39mnorm, (\u001B[38;5;28mself\u001B[39m,), \u001B[38;5;28mself\u001B[39m, p\u001B[38;5;241m=\u001B[39mp, dim\u001B[38;5;241m=\u001B[39mdim, keepdim\u001B[38;5;241m=\u001B[39mkeepdim, dtype\u001B[38;5;241m=\u001B[39mdtype\n\u001B[0;32m    646\u001B[0m     )\n\u001B[1;32m--> 647\u001B[0m \u001B[38;5;28;01mreturn\u001B[39;00m \u001B[43mtorch\u001B[49m\u001B[38;5;241;43m.\u001B[39;49m\u001B[43mnorm\u001B[49m\u001B[43m(\u001B[49m\u001B[38;5;28;43mself\u001B[39;49m\u001B[43m,\u001B[49m\u001B[43m \u001B[49m\u001B[43mp\u001B[49m\u001B[43m,\u001B[49m\u001B[43m \u001B[49m\u001B[43mdim\u001B[49m\u001B[43m,\u001B[49m\u001B[43m \u001B[49m\u001B[43mkeepdim\u001B[49m\u001B[43m,\u001B[49m\u001B[43m \u001B[49m\u001B[43mdtype\u001B[49m\u001B[38;5;241;43m=\u001B[39;49m\u001B[43mdtype\u001B[49m\u001B[43m)\u001B[49m\n",
      "File \u001B[1;32mC:\\python_venv\\Lib\\site-packages\\torch\\functional.py:1501\u001B[0m, in \u001B[0;36mnorm\u001B[1;34m(input, p, dim, keepdim, out, dtype)\u001B[0m\n\u001B[0;32m   1499\u001B[0m \u001B[38;5;28;01mif\u001B[39;00m p \u001B[38;5;241m==\u001B[39m \u001B[38;5;124m\"\u001B[39m\u001B[38;5;124mfro\u001B[39m\u001B[38;5;124m\"\u001B[39m \u001B[38;5;129;01mand\u001B[39;00m (dim \u001B[38;5;129;01mis\u001B[39;00m \u001B[38;5;28;01mNone\u001B[39;00m \u001B[38;5;129;01mor\u001B[39;00m \u001B[38;5;28misinstance\u001B[39m(dim, \u001B[38;5;28mint\u001B[39m) \u001B[38;5;129;01mor\u001B[39;00m \u001B[38;5;28mlen\u001B[39m(dim) \u001B[38;5;241m<\u001B[39m\u001B[38;5;241m=\u001B[39m \u001B[38;5;241m2\u001B[39m):\n\u001B[0;32m   1500\u001B[0m     \u001B[38;5;28;01mif\u001B[39;00m out \u001B[38;5;129;01mis\u001B[39;00m \u001B[38;5;28;01mNone\u001B[39;00m:\n\u001B[1;32m-> 1501\u001B[0m         \u001B[38;5;28;01mreturn\u001B[39;00m \u001B[43mtorch\u001B[49m\u001B[38;5;241;43m.\u001B[39;49m\u001B[43mlinalg\u001B[49m\u001B[38;5;241;43m.\u001B[39;49m\u001B[43mvector_norm\u001B[49m\u001B[43m(\u001B[49m\u001B[38;5;28;43minput\u001B[39;49m\u001B[43m,\u001B[49m\u001B[43m \u001B[49m\u001B[38;5;241;43m2\u001B[39;49m\u001B[43m,\u001B[49m\u001B[43m \u001B[49m\u001B[43m_dim\u001B[49m\u001B[43m,\u001B[49m\u001B[43m \u001B[49m\u001B[43mkeepdim\u001B[49m\u001B[43m,\u001B[49m\u001B[43m \u001B[49m\u001B[43mdtype\u001B[49m\u001B[38;5;241;43m=\u001B[39;49m\u001B[43mdtype\u001B[49m\u001B[43m)\u001B[49m\n\u001B[0;32m   1502\u001B[0m     \u001B[38;5;28;01melse\u001B[39;00m:\n\u001B[0;32m   1503\u001B[0m         \u001B[38;5;28;01mreturn\u001B[39;00m torch\u001B[38;5;241m.\u001B[39mlinalg\u001B[38;5;241m.\u001B[39mvector_norm(\u001B[38;5;28minput\u001B[39m, \u001B[38;5;241m2\u001B[39m, _dim, keepdim, dtype\u001B[38;5;241m=\u001B[39mdtype, out\u001B[38;5;241m=\u001B[39mout)\n",
      "\u001B[1;31mIndexError\u001B[0m: Dimension out of range (expected to be in range of [-1, 0], but got 1)"
     ]
    }
   ],
   "source": [
    "plt.plot(np.arange(frames_c), fs.norm(dim=1).cpu())"
   ],
   "metadata": {
    "collapsed": false,
    "ExecuteTime": {
     "end_time": "2023-10-25T15:40:58.338094300Z",
     "start_time": "2023-10-25T15:40:57.449483200Z"
    }
   },
   "id": "9a11f7b831e8a8a6"
  },
  {
   "cell_type": "code",
   "execution_count": null,
   "outputs": [],
   "source": [
    "plt.rcParams['lines.markersize'] ** 2"
   ],
   "metadata": {
    "collapsed": false,
    "ExecuteTime": {
     "end_time": "2023-10-25T15:40:58.345101400Z",
     "start_time": "2023-10-25T15:40:58.339101200Z"
    }
   },
   "id": "1caceaec00d9fa53"
  },
  {
   "cell_type": "code",
   "execution_count": null,
   "outputs": [],
   "source": [
    "# force.min()"
   ],
   "metadata": {
    "collapsed": false,
    "ExecuteTime": {
     "start_time": "2023-10-25T15:40:58.340102Z"
    }
   },
   "id": "adcd91f64ca0a2a4"
  },
  {
   "cell_type": "code",
   "execution_count": null,
   "outputs": [],
   "source": [
    "from scipy import fft"
   ],
   "metadata": {
    "collapsed": false,
    "ExecuteTime": {
     "start_time": "2023-10-25T15:40:58.341100900Z"
    }
   },
   "id": "c52102b368215c0d"
  },
  {
   "cell_type": "code",
   "execution_count": null,
   "outputs": [],
   "source": [
    "# force = fs.norm(dim=1).cpu().numpy()\n",
    "force = fs.cpu()\n",
    "force -= (force[-1] - force[0]) * np.linspace(0, 1, num=frames_c) + force[0]\n",
    "force_fft = fft.fft(force)"
   ],
   "metadata": {
    "collapsed": false,
    "ExecuteTime": {
     "start_time": "2023-10-25T15:40:58.342101600Z"
    }
   },
   "id": "aca48c160d553a55"
  },
  {
   "cell_type": "code",
   "execution_count": null,
   "outputs": [],
   "source": [
    "plt.plot(force_fft[10000:-10000])"
   ],
   "metadata": {
    "collapsed": false,
    "ExecuteTime": {
     "start_time": "2023-10-25T15:40:58.343100900Z"
    }
   },
   "id": "421955d316bce27c"
  },
  {
   "cell_type": "code",
   "execution_count": null,
   "outputs": [],
   "source": [
    "force[-1]"
   ],
   "metadata": {
    "collapsed": false,
    "ExecuteTime": {
     "start_time": "2023-10-25T15:40:58.344101700Z"
    }
   },
   "id": "7770f059c8d68d5"
  },
  {
   "cell_type": "code",
   "execution_count": null,
   "outputs": [],
   "source": [
    "torch.range(start=0, end=10)"
   ],
   "metadata": {
    "collapsed": false,
    "ExecuteTime": {
     "start_time": "2023-10-25T15:40:58.345101400Z"
    }
   },
   "id": "bb24a665635bf506"
  },
  {
   "cell_type": "code",
   "execution_count": null,
   "outputs": [],
   "source": [],
   "metadata": {
    "collapsed": false,
    "ExecuteTime": {
     "start_time": "2023-10-25T15:40:58.346101Z"
    }
   },
   "id": "8b1db592efb01560"
  }
 ],
 "metadata": {
  "kernelspec": {
   "display_name": "Python 3",
   "language": "python",
   "name": "python3"
  },
  "language_info": {
   "codemirror_mode": {
    "name": "ipython",
    "version": 2
   },
   "file_extension": ".py",
   "mimetype": "text/x-python",
   "name": "python",
   "nbconvert_exporter": "python",
   "pygments_lexer": "ipython2",
   "version": "2.7.6"
  }
 },
 "nbformat": 4,
 "nbformat_minor": 5
}
