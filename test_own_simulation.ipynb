{
 "cells": [
  {
   "cell_type": "code",
   "execution_count": 1,
   "id": "initial_id",
   "metadata": {
    "collapsed": true,
    "ExecuteTime": {
     "end_time": "2023-11-07T08:22:49.240034200Z",
     "start_time": "2023-11-07T08:22:46.491662Z"
    }
   },
   "outputs": [],
   "source": [
    "import pathlib\n",
    "\n",
    "import os\n",
    "import numpy as np\n",
    "import matplotlib.pyplot as plt\n",
    "import matplotlib\n",
    "from matplotlib import animation\n",
    "from matplotlib.animation import PillowWriter\n",
    "import scienceplots\n",
    "import importlib\n",
    "\n",
    "plt.style.use(['science', 'notebook'])"
   ]
  },
  {
   "cell_type": "code",
   "execution_count": 16,
   "outputs": [
    {
     "data": {
      "text/plain": "<module 'simulation' from 'C:\\\\bogachevv\\\\Python\\\\StatPhys\\\\simulation.py'>"
     },
     "execution_count": 16,
     "metadata": {},
     "output_type": "execute_result"
    }
   ],
   "source": [
    "import simulation\n",
    "importlib.reload(simulation)"
   ],
   "metadata": {
    "collapsed": false,
    "ExecuteTime": {
     "end_time": "2023-11-07T11:44:53.037454800Z",
     "start_time": "2023-11-07T11:44:52.990568800Z"
    }
   },
   "id": "f6c4da9168f2bfe5"
  },
  {
   "cell_type": "code",
   "execution_count": 17,
   "outputs": [],
   "source": [
    "np.random.seed(42)\n",
    "\n",
    "\n",
    "n_particles = 100\n",
    "\n",
    "r = np.random.uniform(size=(2, n_particles))\n",
    "v = np.zeros_like(r)\n",
    "# v = np.random.uniform(low=-500, high=500, size=(2,n_particles))\n",
    "# m = torch.ones((n_particles, )).to(device)\n",
    "m = np.ones((n_particles, )) * (10 ** (-5))\n",
    "m[0] = 10 ** (-4)\n",
    "m[1] = 10 ** (-4)\n",
    "\n",
    "l_0 = 0.1\n",
    "\n",
    "frames_c = 5_000"
   ],
   "metadata": {
    "collapsed": false,
    "ExecuteTime": {
     "end_time": "2023-11-07T11:44:53.162953700Z",
     "start_time": "2023-11-07T11:44:53.116085Z"
    }
   },
   "id": "14667e3da379f759"
  },
  {
   "cell_type": "markdown",
   "source": [
    "Формула расчета скорости при столкновении:\n",
    "$v_1^{(new)} = v_1 - \\langle \\frac{2m_2}{m_1 + m_2} (v_1 - v_2), r_1 - r_2 \\rangle \\cdot \\frac{r_1 - r_2}{{\\lVert r_1 - r_2 \\rVert}^2}$\n",
    "$v_2^{(new)} = v_2 - \\langle \\frac{2m_1}{m_1 + m_2} (v_1 - v_2), r_1 - r_2 \\rangle \\cdot \\frac{r_1 - r_2}{{\\lVert r_1 - r_2 \\rVert}^2}$"
   ],
   "metadata": {
    "collapsed": false
   },
   "id": "b96d695d1fb3800b"
  },
  {
   "cell_type": "code",
   "execution_count": 18,
   "outputs": [],
   "source": [
    "ixr = r[0]>0.5 #right\n",
    "ixl = r[0]<=0.5 #left\n",
    "\n",
    "v[0][ixr] = -500\n",
    "v[0][ixl] = 500"
   ],
   "metadata": {
    "collapsed": false,
    "ExecuteTime": {
     "end_time": "2023-11-07T11:44:53.793309100Z",
     "start_time": "2023-11-07T11:44:53.755747Z"
    }
   },
   "id": "73cb0f206bd555ad"
  },
  {
   "cell_type": "code",
   "execution_count": 19,
   "outputs": [
    {
     "data": {
      "text/plain": "array([[ 500., -500., -500., -500.,  500.,  500.,  500., -500., -500.,\n        -500.,  500., -500., -500.,  500.,  500.,  500.,  500., -500.,\n         500.,  500., -500.,  500.,  500.,  500.,  500., -500.,  500.,\n        -500., -500.,  500., -500.,  500.,  500., -500., -500., -500.,\n         500.,  500., -500.,  500.,  500.,  500.,  500., -500.,  500.,\n        -500.,  500., -500., -500.,  500., -500., -500., -500., -500.,\n        -500., -500.,  500.,  500.,  500.,  500.,  500.,  500., -500.,\n         500.,  500., -500.,  500., -500.,  500., -500., -500.,  500.,\n         500., -500., -500., -500., -500.,  500.,  500.,  500., -500.,\n        -500.,  500.,  500.,  500.,  500., -500., -500., -500.,  500.,\n         500., -500., -500., -500., -500.,  500., -500.,  500.,  500.,\n         500.],\n       [   0.,    0.,    0.,    0.,    0.,    0.,    0.,    0.,    0.,\n           0.,    0.,    0.,    0.,    0.,    0.,    0.,    0.,    0.,\n           0.,    0.,    0.,    0.,    0.,    0.,    0.,    0.,    0.,\n           0.,    0.,    0.,    0.,    0.,    0.,    0.,    0.,    0.,\n           0.,    0.,    0.,    0.,    0.,    0.,    0.,    0.,    0.,\n           0.,    0.,    0.,    0.,    0.,    0.,    0.,    0.,    0.,\n           0.,    0.,    0.,    0.,    0.,    0.,    0.,    0.,    0.,\n           0.,    0.,    0.,    0.,    0.,    0.,    0.,    0.,    0.,\n           0.,    0.,    0.,    0.,    0.,    0.,    0.,    0.,    0.,\n           0.,    0.,    0.,    0.,    0.,    0.,    0.,    0.,    0.,\n           0.,    0.,    0.,    0.,    0.,    0.,    0.,    0.,    0.,\n           0.]])"
     },
     "execution_count": 19,
     "metadata": {},
     "output_type": "execute_result"
    }
   ],
   "source": [
    "v"
   ],
   "metadata": {
    "collapsed": false,
    "ExecuteTime": {
     "end_time": "2023-11-07T11:44:54.635290700Z",
     "start_time": "2023-11-07T11:44:54.493781900Z"
    }
   },
   "id": "2fccc8ac889f06fd"
  },
  {
   "cell_type": "code",
   "execution_count": 20,
   "outputs": [],
   "source": [
    "sim = simulation.Simulation(\n",
    "    gamma=1.0,\n",
    "    k=150,\n",
    "    l_0=l_0,\n",
    "    R=0.001,\n",
    "    R_spring=0.025,\n",
    "    r=r[:, 2:],\n",
    "    r_spring=r[:, 0:2],\n",
    "    v=v[:, 2:],\n",
    "    v_spring=v[:, 0:2],\n",
    "    m=m[2:],\n",
    "    m_spring=m[0:2]\n",
    ")"
   ],
   "metadata": {
    "collapsed": false,
    "ExecuteTime": {
     "end_time": "2023-11-07T11:44:55.584313400Z",
     "start_time": "2023-11-07T11:44:55.490552100Z"
    }
   },
   "id": "1f393ef0a2b1b595"
  },
  {
   "cell_type": "code",
   "execution_count": 21,
   "outputs": [
    {
     "data": {
      "text/plain": "106.8840579710145"
     },
     "execution_count": 21,
     "metadata": {},
     "output_type": "execute_result"
    }
   ],
   "source": [
    "sim.T"
   ],
   "metadata": {
    "collapsed": false,
    "ExecuteTime": {
     "end_time": "2023-11-07T11:44:56.427906Z",
     "start_time": "2023-11-07T11:44:56.396658200Z"
    }
   },
   "id": "bafa7704ed8ac133"
  },
  {
   "cell_type": "code",
   "execution_count": 11,
   "outputs": [],
   "source": [
    "radius = 0.0005\n",
    "# rs, vs, fs = sim.motion(r, v, ids_pairs, ts=frames_c, dt=0.000008, d_cutoff=2*radius, k=100)\n",
    "rs = np.zeros((frames_c, 2, n_particles))\n",
    "vs = np.zeros((frames_c, 2, n_particles))\n",
    "fs = np.zeros((frames_c, ))\n",
    "ts = np.zeros((frames_c, ))\n",
    "ps = np.zeros((frames_c, ))\n",
    "\n",
    "\n",
    "for i in range(frames_c):\n",
    "    new_r, new_r_spr, new_v, new_v_spr, new_f = next(sim)\n",
    "    rs[i, :, 0:2] = new_r_spr\n",
    "    rs[i, :, 2:] = new_r\n",
    "    vs[i, :, 0:2] = new_v_spr\n",
    "    vs[i, :, 2:] = new_v\n",
    "    fs[i] = new_f\n",
    "    ts[i] = sim.T\n",
    "    ps[i] = sim.calc_potential_energy()\n",
    "    # fs[i] = np.linalg.norm(new_f)"
   ],
   "metadata": {
    "collapsed": false,
    "ExecuteTime": {
     "end_time": "2023-11-01T17:40:53.694143400Z",
     "start_time": "2023-11-01T17:40:39.960338400Z"
    }
   },
   "id": "fd8e296684d8fea8"
  },
  {
   "cell_type": "code",
   "execution_count": 13,
   "outputs": [
    {
     "data": {
      "text/plain": "2.0000000000000004"
     },
     "execution_count": 13,
     "metadata": {},
     "output_type": "execute_result"
    }
   ],
   "source": [
    "plt.plot(range(frames_c), ts)"
   ],
   "metadata": {
    "collapsed": false,
    "ExecuteTime": {
     "end_time": "2023-11-01T17:41:12.928905700Z",
     "start_time": "2023-11-01T17:41:12.898121900Z"
    }
   },
   "id": "4e33905aaa241e14"
  },
  {
   "cell_type": "code",
   "execution_count": 17,
   "outputs": [
    {
     "data": {
      "text/plain": "[<matplotlib.lines.Line2D at 0x22008d7cc90>]"
     },
     "execution_count": 17,
     "metadata": {},
     "output_type": "execute_result"
    },
    {
     "data": {
      "text/plain": "<Figure size 800x600 with 1 Axes>",
      "image/png": "[encoded data removed]"
     },
     "metadata": {},
     "output_type": "display_data"
    }
   ],
   "source": [
    "plt.plot(range(frames_c), ps)"
   ],
   "metadata": {
    "collapsed": false,
    "ExecuteTime": {
     "end_time": "2023-11-01T17:36:52.901042500Z",
     "start_time": "2023-11-01T17:36:52.700396700Z"
    }
   },
   "id": "b1a469d80571af5b"
  },
  {
   "cell_type": "code",
   "execution_count": 18,
   "outputs": [
    {
     "data": {
      "text/plain": "<Figure size 500x500 with 1 Axes>",
      "image/png": "[encoded data removed]"
     },
     "metadata": {},
     "output_type": "display_data"
    }
   ],
   "source": [
    "fig, ax = plt.subplots(1,1,figsize=(5,5))\n",
    "xred, yred = rs[0][0][ixr], rs[0][1][ixr]\n",
    "xblue, yblue = rs[0][0][ixl],rs[0][1][ixl]\n",
    "circles_red = [plt.Circle((xi, yi), radius=radius, linewidth=0) for xi,yi in zip(xred,yred)]\n",
    "circles_blue = [plt.Circle((xi, yi), radius=radius, linewidth=0) for xi,yi in zip(xblue,yblue)]\n",
    "cred = matplotlib.collections.PatchCollection(circles_red, facecolors='red')\n",
    "cblue = matplotlib.collections.PatchCollection(circles_blue, facecolors='blue')\n",
    "ax.add_collection(cred)\n",
    "ax.add_collection(cblue)\n",
    "ax.set_xlim(0,1)\n",
    "ax.set_ylim(0,1)\n",
    "plt.show()"
   ],
   "metadata": {
    "collapsed": false,
    "ExecuteTime": {
     "end_time": "2023-11-01T17:36:53.031615500Z",
     "start_time": "2023-11-01T17:36:52.900042200Z"
    }
   },
   "id": "9a05d2a92558315b"
  },
  {
   "cell_type": "code",
   "execution_count": 19,
   "outputs": [],
   "source": [
    "# fig, ax = plt.subplots(1,1,figsize=(5,5))\n",
    "# ax.clear()\n",
    "# vmin = 0\n",
    "# vmax = 1\n",
    "# ax.set_xlim(0,1)\n",
    "# ax.set_ylim(0,1)\n",
    "# markersize = 2 * radius * ax.get_window_extent().width  / (vmax-vmin) * 72./fig.dpi\n",
    "# \n",
    "# spring, = ax.plot([], [], 'o', color='black', markersize=10*markersize)\n",
    "# red, = ax.plot([], [], 'o', color='red', markersize=markersize)\n",
    "# blue, = ax.plot([], [], 'o', color='blue', markersize=markersize)\n",
    "# \n",
    "# def animate(i):\n",
    "#     print(f\"{i=}\")\n",
    "#     xred, yred = rs[i][0][ixr].cpu(), rs[i][1][ixr].cpu()\n",
    "#     xblue, yblue = rs[i][0][ixl].cpu(),rs[i][1][ixl].cpu()\n",
    "#     x_spring, y_spring = rs[i][0][0:2].cpu(), rs[i][1][0:2].cpu()\n",
    "#     red.set_data(xred, yred)\n",
    "#     blue.set_data(xblue, yblue)\n",
    "#     spring.set_data(x_spring, y_spring)\n",
    "#     return red, blue\n",
    "# \n",
    "# # writer = animation.FFMpegWriter(fps=30)\n",
    "# ani = animation.FuncAnimation(fig, animate, frames=1_000, interval=25, blit=True)\n",
    "# path = pathlib.Path('./anim_brown_spring.gif')\n",
    "# ani.save(path, dpi=100)"
   ],
   "metadata": {
    "collapsed": false,
    "ExecuteTime": {
     "end_time": "2023-11-01T17:36:53.032614600Z",
     "start_time": "2023-11-01T17:36:53.030098800Z"
    }
   },
   "id": "9870e26b0b70590e"
  },
  {
   "cell_type": "code",
   "execution_count": null,
   "outputs": [
    {
     "name": "stdout",
     "output_type": "stream",
     "text": [
      "Process: 0/5000\n",
      "Process: 0/5000\n"
     ]
    }
   ],
   "source": [
    "fig, ax = plt.subplots(1,2,figsize=(10,5))\n",
    "ax[0].clear()\n",
    "ax[1].clear()\n",
    "vmin = 0\n",
    "vmax = 1\n",
    "\n",
    "# x_lim = (torch.min(rs[:, 0, :]).cpu() - 1, torch.max(rs[:, 0, :]).cpu() + 1)\n",
    "# y_lim = (torch.min(rs[:, 1, :]).cpu() - 1, torch.max(rs[:, 1, :]).cpu() + 1)\n",
    "\n",
    "x_lim, y_lim = (0, 1), (0, 1)\n",
    "\n",
    "markersize = 2 * radius * ax[0].get_window_extent().width  / (vmax-vmin) * 72./fig.dpi\n",
    "spring, = ax[0].plot([], [], 'o', color='black', markersize=10*markersize)\n",
    "red, = ax[0].plot([], [], 'o', color='red', markersize=markersize)\n",
    "blue, = ax[0].plot([], [], 'o', color='blue', markersize=markersize)\n",
    "force, = ax[1].plot([], [], color='k')\n",
    "\n",
    "def animate(i):\n",
    "    if i % 10 == 0:\n",
    "        print(f\"Process: {i}/{frames_c}\")\n",
    "    xred, yred = rs[i][0][ixr], rs[i][1][ixr]\n",
    "    xblue, yblue = rs[i][0][ixl],rs[i][1][ixl]\n",
    "    x_spring, y_spring = rs[i][0][0:2], rs[i][1][0:2]\n",
    "    # red.set_data(xred, yred)\n",
    "    # blue.set_data(xblue, yblue)\n",
    "    # force.set_data(np.arange(1_000)[0:i], fs.norm(dim=1)[0:i])\n",
    "    # return [(red, blue), force]\n",
    "\n",
    "    ax[0].clear()\n",
    "    ax[1].clear()\n",
    "\n",
    "    ax[0].scatter(xred, yred, color='red')\n",
    "    ax[0].scatter(xblue, yblue, color='blue')\n",
    "    ax[0].scatter(x_spring, y_spring, color='black', s=5*(plt.rcParams['lines.markersize'] ** 2))\n",
    "    # ax[1].plot(np.arange(10_000)[0:i], fs.norm(dim=1)[0:i])\n",
    "    ax[1].plot(np.arange(10_000)[0:i], fs[0:i])\n",
    "\n",
    "    ax[0].set_xlim(x_lim)\n",
    "    ax[0].set_ylim(y_lim)\n",
    "\n",
    "writer = animation.FFMpegWriter(fps=30)\n",
    "ani = animation.FuncAnimation(fig, animate, frames=frames_c, interval=25, blit=False)\n",
    "path = pathlib.Path('./anim_brown_spring_own.mp4')\n",
    "ani.save(path, writer=writer, dpi=100)"
   ],
   "metadata": {
    "collapsed": false,
    "ExecuteTime": {
     "start_time": "2023-11-01T17:36:53.032614600Z"
    }
   },
   "id": "21e94da21359235a"
  },
  {
   "cell_type": "code",
   "execution_count": null,
   "outputs": [],
   "source": [
    "plt.plot(np.arange(frames_c), fs)"
   ],
   "metadata": {
    "collapsed": false
   },
   "id": "9a11f7b831e8a8a6"
  },
  {
   "cell_type": "code",
   "execution_count": null,
   "outputs": [],
   "source": [
    "np.min(fs)"
   ],
   "metadata": {
    "collapsed": false
   },
   "id": "15343ac39eff1544"
  },
  {
   "cell_type": "code",
   "execution_count": null,
   "outputs": [],
   "source": [
    "plt.rcParams['lines.markersize'] ** 2"
   ],
   "metadata": {
    "collapsed": false
   },
   "id": "1caceaec00d9fa53"
  },
  {
   "cell_type": "code",
   "execution_count": null,
   "outputs": [],
   "source": [
    "# force.min()"
   ],
   "metadata": {
    "collapsed": false
   },
   "id": "adcd91f64ca0a2a4"
  },
  {
   "cell_type": "code",
   "execution_count": null,
   "outputs": [],
   "source": [
    "from scipy import fft"
   ],
   "metadata": {
    "collapsed": false
   },
   "id": "c52102b368215c0d"
  },
  {
   "cell_type": "code",
   "execution_count": null,
   "outputs": [],
   "source": [
    "# force = fs.norm(dim=1).cpu().numpy()\n",
    "force = fs.cpu()\n",
    "force -= (force[-1] - force[0]) * np.linspace(0, 1, num=frames_c) + force[0]\n",
    "force_fft = fft.fft(force)"
   ],
   "metadata": {
    "collapsed": false
   },
   "id": "aca48c160d553a55"
  },
  {
   "cell_type": "code",
   "execution_count": null,
   "outputs": [],
   "source": [
    "plt.plot(force_fft[10000:-10000])"
   ],
   "metadata": {
    "collapsed": false
   },
   "id": "421955d316bce27c"
  },
  {
   "cell_type": "code",
   "execution_count": null,
   "outputs": [],
   "source": [
    "force[-1]"
   ],
   "metadata": {
    "collapsed": false
   },
   "id": "7770f059c8d68d5"
  },
  {
   "cell_type": "code",
   "execution_count": null,
   "outputs": [],
   "source": [
    "torch.range(start=0, end=10)"
   ],
   "metadata": {
    "collapsed": false
   },
   "id": "bb24a665635bf506"
  },
  {
   "cell_type": "code",
   "execution_count": null,
   "outputs": [],
   "source": [
    "sim.r.shape"
   ],
   "metadata": {
    "collapsed": false
   },
   "id": "8b1db592efb01560"
  },
  {
   "cell_type": "code",
   "execution_count": null,
   "outputs": [],
   "source": [
    "sim.set_params(particles_cnt=100)"
   ],
   "metadata": {
    "collapsed": false
   },
   "id": "73894c2021765324"
  },
  {
   "cell_type": "code",
   "execution_count": null,
   "outputs": [],
   "source": [
    "sim.r.shape"
   ],
   "metadata": {
    "collapsed": false
   },
   "id": "51226cf3a252d393"
  },
  {
   "cell_type": "code",
   "execution_count": null,
   "outputs": [],
   "source": [
    "sim.r[:, -1]"
   ],
   "metadata": {
    "collapsed": false
   },
   "id": "d2393e74b229babf"
  },
  {
   "cell_type": "code",
   "execution_count": null,
   "outputs": [],
   "source": [
    "sim.v[:, -1]"
   ],
   "metadata": {
    "collapsed": false
   },
   "id": "6306446e95efb3ab"
  },
  {
   "cell_type": "code",
   "execution_count": null,
   "outputs": [],
   "source": [
    "sim.m[-1]"
   ],
   "metadata": {
    "collapsed": false
   },
   "id": "e0919bc0a4d167e6"
  },
  {
   "cell_type": "code",
   "execution_count": null,
   "outputs": [],
   "source": [],
   "metadata": {
    "collapsed": false
   },
   "id": "e431f5be9add81e1"
  }
 ],
 "metadata": {
  "kernelspec": {
   "display_name": "Python 3",
   "language": "python",
   "name": "python3"
  },
  "language_info": {
   "codemirror_mode": {
    "name": "ipython",
    "version": 2
   },
   "file_extension": ".py",
   "mimetype": "text/x-python",
   "name": "python",
   "nbconvert_exporter": "python",
   "pygments_lexer": "ipython2",
   "version": "2.7.6"
  }
 },
 "nbformat": 4,
 "nbformat_minor": 5
}
