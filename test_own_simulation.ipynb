{
 "cells": [
  {
   "cell_type": "code",
   "execution_count": 17,
   "id": "initial_id",
   "metadata": {
    "collapsed": true,
    "ExecuteTime": {
     "end_time": "2023-10-28T21:16:26.341801800Z",
     "start_time": "2023-10-28T21:16:26.319008800Z"
    }
   },
   "outputs": [],
   "source": [
    "import pathlib\n",
    "\n",
    "import os\n",
    "import numpy as np\n",
    "import matplotlib.pyplot as plt\n",
    "import matplotlib\n",
    "from matplotlib import animation\n",
    "from matplotlib.animation import PillowWriter\n",
    "import scienceplots\n",
    "import importlib\n",
    "\n",
    "plt.style.use(['science', 'notebook'])"
   ]
  },
  {
   "cell_type": "code",
   "execution_count": 18,
   "outputs": [
    {
     "data": {
      "text/plain": "<module 'simulation' from 'C:\\\\Users\\\\Vladimir\\\\PycharmProjects\\\\StatPhys\\\\simulation.py'>"
     },
     "execution_count": 18,
     "metadata": {},
     "output_type": "execute_result"
    }
   ],
   "source": [
    "import simulation\n",
    "importlib.reload(simulation)"
   ],
   "metadata": {
    "collapsed": false,
    "ExecuteTime": {
     "end_time": "2023-10-28T21:16:26.394504200Z",
     "start_time": "2023-10-28T21:16:26.322469200Z"
    }
   },
   "id": "f6c4da9168f2bfe5"
  },
  {
   "cell_type": "code",
   "execution_count": 19,
   "outputs": [],
   "source": [
    "n_particles = 50\n",
    "\n",
    "r = np.random.uniform(size=(2,n_particles))\n",
    "v = np.zeros_like(r)\n",
    "# v = np.random.uniform(low=-500, high=500, size=(2,n_particles))\n",
    "# m = torch.ones((n_particles, )).to(device)\n",
    "m = np.ones((n_particles, )) * (10 ** (-5))\n",
    "m[0] = 10 ** (-4)\n",
    "m[1] = 10 ** (-4)\n",
    "\n",
    "l_0 = 0.1\n",
    "\n",
    "frames_c = 5_000"
   ],
   "metadata": {
    "collapsed": false,
    "ExecuteTime": {
     "end_time": "2023-10-28T21:16:26.395501200Z",
     "start_time": "2023-10-28T21:16:26.327506100Z"
    }
   },
   "id": "14667e3da379f759"
  },
  {
   "cell_type": "markdown",
   "source": [
    "Формула расчета скорости при столкновении:\n",
    "$v_1^{(new)} = v_1 - \\langle \\frac{2m_2}{m_1 + m_2} (v_1 - v_2), r_1 - r_2 \\rangle \\cdot \\frac{r_1 - r_2}{{\\lVert r_1 - r_2 \\rVert}^2}$\n",
    "$v_2^{(new)} = v_2 - \\langle \\frac{2m_1}{m_1 + m_2} (v_1 - v_2), r_1 - r_2 \\rangle \\cdot \\frac{r_1 - r_2}{{\\lVert r_1 - r_2 \\rVert}^2}$"
   ],
   "metadata": {
    "collapsed": false
   },
   "id": "b96d695d1fb3800b"
  },
  {
   "cell_type": "code",
   "execution_count": 20,
   "outputs": [],
   "source": [
    "ixr = r[0]>0.5 #right\n",
    "ixl = r[0]<=0.5 #left\n",
    "\n",
    "v[0][ixr] = -500\n",
    "v[0][ixl] = 500"
   ],
   "metadata": {
    "collapsed": false,
    "ExecuteTime": {
     "end_time": "2023-10-28T21:16:26.396501300Z",
     "start_time": "2023-10-28T21:16:26.331012100Z"
    }
   },
   "id": "73cb0f206bd555ad"
  },
  {
   "cell_type": "code",
   "execution_count": 21,
   "outputs": [
    {
     "data": {
      "text/plain": "array([[ 500.,  500., -500.,  500.,  500.,  500., -500.,  500.,  500.,\n         500., -500.,  500.,  500., -500., -500.,  500.,  500.,  500.,\n         500., -500.,  500.,  500., -500.,  500., -500.,  500., -500.,\n         500., -500.,  500., -500., -500., -500.,  500.,  500.,  500.,\n         500., -500.,  500.,  500.,  500.,  500.,  500., -500., -500.,\n        -500., -500., -500.,  500.,  500.],\n       [   0.,    0.,    0.,    0.,    0.,    0.,    0.,    0.,    0.,\n           0.,    0.,    0.,    0.,    0.,    0.,    0.,    0.,    0.,\n           0.,    0.,    0.,    0.,    0.,    0.,    0.,    0.,    0.,\n           0.,    0.,    0.,    0.,    0.,    0.,    0.,    0.,    0.,\n           0.,    0.,    0.,    0.,    0.,    0.,    0.,    0.,    0.,\n           0.,    0.,    0.,    0.,    0.]])"
     },
     "execution_count": 21,
     "metadata": {},
     "output_type": "execute_result"
    }
   ],
   "source": [
    "v"
   ],
   "metadata": {
    "collapsed": false,
    "ExecuteTime": {
     "end_time": "2023-10-28T21:16:26.396501300Z",
     "start_time": "2023-10-28T21:16:26.334537600Z"
    }
   },
   "id": "2fccc8ac889f06fd"
  },
  {
   "cell_type": "code",
   "execution_count": 22,
   "outputs": [],
   "source": [
    "sim = simulation.Simulation(\n",
    "    gamma=1.0,\n",
    "    k=100,\n",
    "    l_0=0.1,\n",
    "    R=0.01,\n",
    "    R_spring=0.025,\n",
    "    r=r[:, 2:],\n",
    "    r_spring=r[:, 0:2],\n",
    "    v=v[:, 2:],\n",
    "    v_spring=v[:, 0:2],\n",
    "    m=m[2:],\n",
    "    m_spring=m[0:2]\n",
    ")"
   ],
   "metadata": {
    "collapsed": false,
    "ExecuteTime": {
     "end_time": "2023-10-28T21:16:26.397502100Z",
     "start_time": "2023-10-28T21:16:26.338118500Z"
    }
   },
   "id": "1f393ef0a2b1b595"
  },
  {
   "cell_type": "code",
   "execution_count": 23,
   "outputs": [],
   "source": [
    "radius = 0.005\n",
    "# rs, vs, fs = sim.motion(r, v, ids_pairs, ts=frames_c, dt=0.000008, d_cutoff=2*radius, k=100)\n",
    "rs = np.zeros((frames_c, 2, n_particles))\n",
    "vs = np.zeros((frames_c, 2, n_particles))\n",
    "fs = np.zeros((frames_c, ))\n",
    "\n",
    "for i in range(frames_c):\n",
    "    new_r, new_r_spr, new_v, new_v_spr, new_f = next(sim)\n",
    "    rs[i, :, 0:2] = new_r_spr\n",
    "    rs[i, :, 2:] = new_r\n",
    "    vs[i, :, 0:2] = new_v_spr\n",
    "    vs[i, :, 2:] = new_v\n",
    "    fs[i] = new_f\n",
    "    # fs[i] = np.linalg.norm(new_f)"
   ],
   "metadata": {
    "collapsed": false,
    "ExecuteTime": {
     "end_time": "2023-10-28T21:16:27.592244600Z",
     "start_time": "2023-10-28T21:16:26.342799Z"
    }
   },
   "id": "fd8e296684d8fea8"
  },
  {
   "cell_type": "code",
   "execution_count": 24,
   "outputs": [
    {
     "data": {
      "text/plain": "<Figure size 500x500 with 1 Axes>",
      "image/png": "[encoded data removed]"
     },
     "metadata": {},
     "output_type": "display_data"
    }
   ],
   "source": [
    "fig, ax = plt.subplots(1,1,figsize=(5,5))\n",
    "xred, yred = rs[0][0][ixr], rs[0][1][ixr]\n",
    "xblue, yblue = rs[0][0][ixl],rs[0][1][ixl]\n",
    "circles_red = [plt.Circle((xi, yi), radius=radius, linewidth=0) for xi,yi in zip(xred,yred)]\n",
    "circles_blue = [plt.Circle((xi, yi), radius=radius, linewidth=0) for xi,yi in zip(xblue,yblue)]\n",
    "cred = matplotlib.collections.PatchCollection(circles_red, facecolors='red')\n",
    "cblue = matplotlib.collections.PatchCollection(circles_blue, facecolors='blue')\n",
    "ax.add_collection(cred)\n",
    "ax.add_collection(cblue)\n",
    "ax.set_xlim(0,1)\n",
    "ax.set_ylim(0,1)\n",
    "plt.show()"
   ],
   "metadata": {
    "collapsed": false,
    "ExecuteTime": {
     "end_time": "2023-10-28T21:16:27.701489200Z",
     "start_time": "2023-10-28T21:16:27.594389700Z"
    }
   },
   "id": "9a05d2a92558315b"
  },
  {
   "cell_type": "code",
   "execution_count": 25,
   "outputs": [],
   "source": [
    "# fig, ax = plt.subplots(1,1,figsize=(5,5))\n",
    "# ax.clear()\n",
    "# vmin = 0\n",
    "# vmax = 1\n",
    "# ax.set_xlim(0,1)\n",
    "# ax.set_ylim(0,1)\n",
    "# markersize = 2 * radius * ax.get_window_extent().width  / (vmax-vmin) * 72./fig.dpi\n",
    "# \n",
    "# spring, = ax.plot([], [], 'o', color='black', markersize=10*markersize)\n",
    "# red, = ax.plot([], [], 'o', color='red', markersize=markersize)\n",
    "# blue, = ax.plot([], [], 'o', color='blue', markersize=markersize)\n",
    "# \n",
    "# def animate(i):\n",
    "#     print(f\"{i=}\")\n",
    "#     xred, yred = rs[i][0][ixr].cpu(), rs[i][1][ixr].cpu()\n",
    "#     xblue, yblue = rs[i][0][ixl].cpu(),rs[i][1][ixl].cpu()\n",
    "#     x_spring, y_spring = rs[i][0][0:2].cpu(), rs[i][1][0:2].cpu()\n",
    "#     red.set_data(xred, yred)\n",
    "#     blue.set_data(xblue, yblue)\n",
    "#     spring.set_data(x_spring, y_spring)\n",
    "#     return red, blue\n",
    "# \n",
    "# # writer = animation.FFMpegWriter(fps=30)\n",
    "# ani = animation.FuncAnimation(fig, animate, frames=1_000, interval=25, blit=True)\n",
    "# path = pathlib.Path('./anim_brown_spring.gif')\n",
    "# ani.save(path, dpi=100)"
   ],
   "metadata": {
    "collapsed": false,
    "ExecuteTime": {
     "end_time": "2023-10-28T21:16:27.706688300Z",
     "start_time": "2023-10-28T21:16:27.703486700Z"
    }
   },
   "id": "9870e26b0b70590e"
  },
  {
   "cell_type": "code",
   "execution_count": 26,
   "outputs": [
    {
     "name": "stdout",
     "output_type": "stream",
     "text": [
      "Process: 0/5000\n",
      "Process: 0/5000\n",
      "Process: 10/5000\n",
      "Process: 20/5000\n",
      "Process: 30/5000\n",
      "Process: 40/5000\n",
      "Process: 50/5000\n",
      "Process: 60/5000\n",
      "Process: 70/5000\n",
      "Process: 80/5000\n",
      "Process: 90/5000\n",
      "Process: 100/5000\n",
      "Process: 110/5000\n",
      "Process: 120/5000\n",
      "Process: 130/5000\n",
      "Process: 140/5000\n",
      "Process: 150/5000\n",
      "Process: 160/5000\n",
      "Process: 170/5000\n",
      "Process: 180/5000\n",
      "Process: 190/5000\n",
      "Process: 200/5000\n",
      "Process: 210/5000\n",
      "Process: 220/5000\n",
      "Process: 230/5000\n",
      "Process: 240/5000\n",
      "Process: 250/5000\n",
      "Process: 260/5000\n",
      "Process: 270/5000\n",
      "Process: 280/5000\n",
      "Process: 290/5000\n",
      "Process: 300/5000\n",
      "Process: 310/5000\n",
      "Process: 320/5000\n",
      "Process: 330/5000\n",
      "Process: 340/5000\n",
      "Process: 350/5000\n",
      "Process: 360/5000\n",
      "Process: 370/5000\n",
      "Process: 380/5000\n",
      "Process: 390/5000\n",
      "Process: 400/5000\n",
      "Process: 410/5000\n",
      "Process: 420/5000\n",
      "Process: 430/5000\n",
      "Process: 440/5000\n",
      "Process: 450/5000\n",
      "Process: 460/5000\n",
      "Process: 470/5000\n",
      "Process: 480/5000\n",
      "Process: 490/5000\n",
      "Process: 500/5000\n",
      "Process: 510/5000\n",
      "Process: 520/5000\n",
      "Process: 530/5000\n",
      "Process: 540/5000\n",
      "Process: 550/5000\n",
      "Process: 560/5000\n",
      "Process: 570/5000\n",
      "Process: 580/5000\n",
      "Process: 590/5000\n",
      "Process: 600/5000\n",
      "Process: 610/5000\n",
      "Process: 620/5000\n",
      "Process: 630/5000\n",
      "Process: 640/5000\n",
      "Process: 650/5000\n",
      "Process: 660/5000\n",
      "Process: 670/5000\n",
      "Process: 680/5000\n",
      "Process: 690/5000\n",
      "Process: 700/5000\n",
      "Process: 710/5000\n",
      "Process: 720/5000\n",
      "Process: 730/5000\n",
      "Process: 740/5000\n",
      "Process: 750/5000\n",
      "Process: 760/5000\n",
      "Process: 770/5000\n",
      "Process: 780/5000\n",
      "Process: 790/5000\n",
      "Process: 800/5000\n",
      "Process: 810/5000\n",
      "Process: 820/5000\n",
      "Process: 830/5000\n",
      "Process: 840/5000\n",
      "Process: 850/5000\n",
      "Process: 860/5000\n",
      "Process: 870/5000\n",
      "Process: 880/5000\n",
      "Process: 890/5000\n",
      "Process: 900/5000\n",
      "Process: 910/5000\n",
      "Process: 920/5000\n",
      "Process: 930/5000\n",
      "Process: 940/5000\n",
      "Process: 950/5000\n",
      "Process: 960/5000\n",
      "Process: 970/5000\n",
      "Process: 980/5000\n",
      "Process: 990/5000\n",
      "Process: 1000/5000\n",
      "Process: 1010/5000\n",
      "Process: 1020/5000\n",
      "Process: 1030/5000\n",
      "Process: 1040/5000\n",
      "Process: 1050/5000\n",
      "Process: 1060/5000\n",
      "Process: 1070/5000\n",
      "Process: 1080/5000\n",
      "Process: 1090/5000\n",
      "Process: 1100/5000\n",
      "Process: 1110/5000\n",
      "Process: 1120/5000\n",
      "Process: 1130/5000\n",
      "Process: 1140/5000\n",
      "Process: 1150/5000\n",
      "Process: 1160/5000\n",
      "Process: 1170/5000\n",
      "Process: 1180/5000\n",
      "Process: 1190/5000\n",
      "Process: 1200/5000\n",
      "Process: 1210/5000\n",
      "Process: 1220/5000\n",
      "Process: 1230/5000\n",
      "Process: 1240/5000\n",
      "Process: 1250/5000\n",
      "Process: 1260/5000\n",
      "Process: 1270/5000\n",
      "Process: 1280/5000\n",
      "Process: 1290/5000\n",
      "Process: 1300/5000\n",
      "Process: 1310/5000\n",
      "Process: 1320/5000\n",
      "Process: 1330/5000\n",
      "Process: 1340/5000\n",
      "Process: 1350/5000\n",
      "Process: 1360/5000\n",
      "Process: 1370/5000\n",
      "Process: 1380/5000\n",
      "Process: 1390/5000\n",
      "Process: 1400/5000\n",
      "Process: 1410/5000\n",
      "Process: 1420/5000\n",
      "Process: 1430/5000\n",
      "Process: 1440/5000\n",
      "Process: 1450/5000\n",
      "Process: 1460/5000\n",
      "Process: 1470/5000\n",
      "Process: 1480/5000\n",
      "Process: 1490/5000\n",
      "Process: 1500/5000\n",
      "Process: 1510/5000\n",
      "Process: 1520/5000\n",
      "Process: 1530/5000\n",
      "Process: 1540/5000\n",
      "Process: 1550/5000\n",
      "Process: 1560/5000\n",
      "Process: 1570/5000\n",
      "Process: 1580/5000\n",
      "Process: 1590/5000\n",
      "Process: 1600/5000\n",
      "Process: 1610/5000\n",
      "Process: 1620/5000\n",
      "Process: 1630/5000\n",
      "Process: 1640/5000\n",
      "Process: 1650/5000\n",
      "Process: 1660/5000\n",
      "Process: 1670/5000\n",
      "Process: 1680/5000\n",
      "Process: 1690/5000\n",
      "Process: 1700/5000\n",
      "Process: 1710/5000\n",
      "Process: 1720/5000\n",
      "Process: 1730/5000\n",
      "Process: 1740/5000\n",
      "Process: 1750/5000\n",
      "Process: 1760/5000\n",
      "Process: 1770/5000\n",
      "Process: 1780/5000\n",
      "Process: 1790/5000\n",
      "Process: 1800/5000\n",
      "Process: 1810/5000\n",
      "Process: 1820/5000\n",
      "Process: 1830/5000\n",
      "Process: 1840/5000\n",
      "Process: 1850/5000\n",
      "Process: 1860/5000\n",
      "Process: 1870/5000\n",
      "Process: 1880/5000\n",
      "Process: 1890/5000\n",
      "Process: 1900/5000\n",
      "Process: 1910/5000\n",
      "Process: 1920/5000\n",
      "Process: 1930/5000\n",
      "Process: 1940/5000\n",
      "Process: 1950/5000\n",
      "Process: 1960/5000\n",
      "Process: 1970/5000\n",
      "Process: 1980/5000\n",
      "Process: 1990/5000\n",
      "Process: 2000/5000\n",
      "Process: 2010/5000\n",
      "Process: 2020/5000\n",
      "Process: 2030/5000\n",
      "Process: 2040/5000\n",
      "Process: 2050/5000\n",
      "Process: 2060/5000\n",
      "Process: 2070/5000\n",
      "Process: 2080/5000\n",
      "Process: 2090/5000\n",
      "Process: 2100/5000\n",
      "Process: 2110/5000\n",
      "Process: 2120/5000\n",
      "Process: 2130/5000\n",
      "Process: 2140/5000\n",
      "Process: 2150/5000\n",
      "Process: 2160/5000\n",
      "Process: 2170/5000\n",
      "Process: 2180/5000\n",
      "Process: 2190/5000\n",
      "Process: 2200/5000\n",
      "Process: 2210/5000\n",
      "Process: 2220/5000\n",
      "Process: 2230/5000\n",
      "Process: 2240/5000\n",
      "Process: 2250/5000\n",
      "Process: 2260/5000\n",
      "Process: 2270/5000\n",
      "Process: 2280/5000\n",
      "Process: 2290/5000\n",
      "Process: 2300/5000\n",
      "Process: 2310/5000\n",
      "Process: 2320/5000\n",
      "Process: 2330/5000\n",
      "Process: 2340/5000\n",
      "Process: 2350/5000\n",
      "Process: 2360/5000\n",
      "Process: 2370/5000\n",
      "Process: 2380/5000\n",
      "Process: 2390/5000\n",
      "Process: 2400/5000\n",
      "Process: 2410/5000\n",
      "Process: 2420/5000\n",
      "Process: 2430/5000\n",
      "Process: 2440/5000\n",
      "Process: 2450/5000\n",
      "Process: 2460/5000\n",
      "Process: 2470/5000\n",
      "Process: 2480/5000\n",
      "Process: 2490/5000\n",
      "Process: 2500/5000\n",
      "Process: 2510/5000\n",
      "Process: 2520/5000\n",
      "Process: 2530/5000\n",
      "Process: 2540/5000\n",
      "Process: 2550/5000\n",
      "Process: 2560/5000\n",
      "Process: 2570/5000\n",
      "Process: 2580/5000\n",
      "Process: 2590/5000\n",
      "Process: 2600/5000\n",
      "Process: 2610/5000\n",
      "Process: 2620/5000\n",
      "Process: 2630/5000\n",
      "Process: 2640/5000\n",
      "Process: 2650/5000\n",
      "Process: 2660/5000\n",
      "Process: 2670/5000\n",
      "Process: 2680/5000\n",
      "Process: 2690/5000\n",
      "Process: 2700/5000\n",
      "Process: 2710/5000\n",
      "Process: 2720/5000\n",
      "Process: 2730/5000\n",
      "Process: 2740/5000\n",
      "Process: 2750/5000\n",
      "Process: 2760/5000\n",
      "Process: 2770/5000\n",
      "Process: 2780/5000\n",
      "Process: 2790/5000\n",
      "Process: 2800/5000\n",
      "Process: 2810/5000\n",
      "Process: 2820/5000\n",
      "Process: 2830/5000\n",
      "Process: 2840/5000\n",
      "Process: 2850/5000\n",
      "Process: 2860/5000\n",
      "Process: 2870/5000\n",
      "Process: 2880/5000\n",
      "Process: 2890/5000\n",
      "Process: 2900/5000\n",
      "Process: 2910/5000\n",
      "Process: 2920/5000\n",
      "Process: 2930/5000\n",
      "Process: 2940/5000\n",
      "Process: 2950/5000\n",
      "Process: 2960/5000\n",
      "Process: 2970/5000\n",
      "Process: 2980/5000\n",
      "Process: 2990/5000\n",
      "Process: 3000/5000\n",
      "Process: 3010/5000\n",
      "Process: 3020/5000\n",
      "Process: 3030/5000\n",
      "Process: 3040/5000\n",
      "Process: 3050/5000\n",
      "Process: 3060/5000\n",
      "Process: 3070/5000\n",
      "Process: 3080/5000\n",
      "Process: 3090/5000\n",
      "Process: 3100/5000\n",
      "Process: 3110/5000\n",
      "Process: 3120/5000\n",
      "Process: 3130/5000\n",
      "Process: 3140/5000\n",
      "Process: 3150/5000\n",
      "Process: 3160/5000\n",
      "Process: 3170/5000\n",
      "Process: 3180/5000\n",
      "Process: 3190/5000\n",
      "Process: 3200/5000\n",
      "Process: 3210/5000\n",
      "Process: 3220/5000\n",
      "Process: 3230/5000\n",
      "Process: 3240/5000\n",
      "Process: 3250/5000\n",
      "Process: 3260/5000\n",
      "Process: 3270/5000\n",
      "Process: 3280/5000\n",
      "Process: 3290/5000\n",
      "Process: 3300/5000\n",
      "Process: 3310/5000\n",
      "Process: 3320/5000\n",
      "Process: 3330/5000\n",
      "Process: 3340/5000\n",
      "Process: 3350/5000\n",
      "Process: 3360/5000\n",
      "Process: 3370/5000\n",
      "Process: 3380/5000\n",
      "Process: 3390/5000\n",
      "Process: 3400/5000\n",
      "Process: 3410/5000\n",
      "Process: 3420/5000\n",
      "Process: 3430/5000\n",
      "Process: 3440/5000\n",
      "Process: 3450/5000\n",
      "Process: 3460/5000\n",
      "Process: 3470/5000\n",
      "Process: 3480/5000\n",
      "Process: 3490/5000\n",
      "Process: 3500/5000\n",
      "Process: 3510/5000\n",
      "Process: 3520/5000\n",
      "Process: 3530/5000\n",
      "Process: 3540/5000\n",
      "Process: 3550/5000\n",
      "Process: 3560/5000\n",
      "Process: 3570/5000\n",
      "Process: 3580/5000\n",
      "Process: 3590/5000\n",
      "Process: 3600/5000\n",
      "Process: 3610/5000\n",
      "Process: 3620/5000\n",
      "Process: 3630/5000\n",
      "Process: 3640/5000\n",
      "Process: 3650/5000\n",
      "Process: 3660/5000\n",
      "Process: 3670/5000\n",
      "Process: 3680/5000\n",
      "Process: 3690/5000\n",
      "Process: 3700/5000\n",
      "Process: 3710/5000\n",
      "Process: 3720/5000\n",
      "Process: 3730/5000\n",
      "Process: 3740/5000\n",
      "Process: 3750/5000\n",
      "Process: 3760/5000\n",
      "Process: 3770/5000\n",
      "Process: 3780/5000\n",
      "Process: 3790/5000\n",
      "Process: 3800/5000\n",
      "Process: 3810/5000\n",
      "Process: 3820/5000\n",
      "Process: 3830/5000\n",
      "Process: 3840/5000\n",
      "Process: 3850/5000\n",
      "Process: 3860/5000\n",
      "Process: 3870/5000\n",
      "Process: 3880/5000\n",
      "Process: 3890/5000\n",
      "Process: 3900/5000\n",
      "Process: 3910/5000\n",
      "Process: 3920/5000\n",
      "Process: 3930/5000\n",
      "Process: 3940/5000\n",
      "Process: 3950/5000\n",
      "Process: 3960/5000\n",
      "Process: 3970/5000\n",
      "Process: 3980/5000\n",
      "Process: 3990/5000\n",
      "Process: 4000/5000\n",
      "Process: 4010/5000\n",
      "Process: 4020/5000\n",
      "Process: 4030/5000\n",
      "Process: 4040/5000\n",
      "Process: 4050/5000\n",
      "Process: 4060/5000\n",
      "Process: 4070/5000\n",
      "Process: 4080/5000\n",
      "Process: 4090/5000\n",
      "Process: 4100/5000\n",
      "Process: 4110/5000\n",
      "Process: 4120/5000\n",
      "Process: 4130/5000\n",
      "Process: 4140/5000\n",
      "Process: 4150/5000\n",
      "Process: 4160/5000\n",
      "Process: 4170/5000\n",
      "Process: 4180/5000\n",
      "Process: 4190/5000\n",
      "Process: 4200/5000\n",
      "Process: 4210/5000\n",
      "Process: 4220/5000\n",
      "Process: 4230/5000\n",
      "Process: 4240/5000\n",
      "Process: 4250/5000\n",
      "Process: 4260/5000\n",
      "Process: 4270/5000\n",
      "Process: 4280/5000\n",
      "Process: 4290/5000\n",
      "Process: 4300/5000\n",
      "Process: 4310/5000\n",
      "Process: 4320/5000\n",
      "Process: 4330/5000\n",
      "Process: 4340/5000\n",
      "Process: 4350/5000\n",
      "Process: 4360/5000\n",
      "Process: 4370/5000\n",
      "Process: 4380/5000\n",
      "Process: 4390/5000\n",
      "Process: 4400/5000\n",
      "Process: 4410/5000\n",
      "Process: 4420/5000\n",
      "Process: 4430/5000\n",
      "Process: 4440/5000\n",
      "Process: 4450/5000\n",
      "Process: 4460/5000\n",
      "Process: 4470/5000\n",
      "Process: 4480/5000\n",
      "Process: 4490/5000\n",
      "Process: 4500/5000\n",
      "Process: 4510/5000\n",
      "Process: 4520/5000\n",
      "Process: 4530/5000\n",
      "Process: 4540/5000\n",
      "Process: 4550/5000\n",
      "Process: 4560/5000\n",
      "Process: 4570/5000\n",
      "Process: 4580/5000\n",
      "Process: 4590/5000\n",
      "Process: 4600/5000\n",
      "Process: 4610/5000\n",
      "Process: 4620/5000\n",
      "Process: 4630/5000\n",
      "Process: 4640/5000\n",
      "Process: 4650/5000\n",
      "Process: 4660/5000\n",
      "Process: 4670/5000\n",
      "Process: 4680/5000\n",
      "Process: 4690/5000\n",
      "Process: 4700/5000\n",
      "Process: 4710/5000\n",
      "Process: 4720/5000\n",
      "Process: 4730/5000\n",
      "Process: 4740/5000\n",
      "Process: 4750/5000\n",
      "Process: 4760/5000\n",
      "Process: 4770/5000\n",
      "Process: 4780/5000\n",
      "Process: 4790/5000\n",
      "Process: 4800/5000\n",
      "Process: 4810/5000\n",
      "Process: 4820/5000\n",
      "Process: 4830/5000\n",
      "Process: 4840/5000\n",
      "Process: 4850/5000\n",
      "Process: 4860/5000\n",
      "Process: 4870/5000\n",
      "Process: 4880/5000\n",
      "Process: 4890/5000\n",
      "Process: 4900/5000\n",
      "Process: 4910/5000\n",
      "Process: 4920/5000\n",
      "Process: 4930/5000\n",
      "Process: 4940/5000\n",
      "Process: 4950/5000\n",
      "Process: 4960/5000\n",
      "Process: 4970/5000\n",
      "Process: 4980/5000\n",
      "Process: 4990/5000\n",
      "Process: 0/5000\n"
     ]
    },
    {
     "data": {
      "text/plain": "<Figure size 1000x500 with 2 Axes>",
      "image/png": "[encoded data removed]"
     },
     "metadata": {},
     "output_type": "display_data"
    }
   ],
   "source": [
    "fig, ax = plt.subplots(1,2,figsize=(10,5))\n",
    "ax[0].clear()\n",
    "ax[1].clear()\n",
    "vmin = 0\n",
    "vmax = 1\n",
    "\n",
    "# x_lim = (torch.min(rs[:, 0, :]).cpu() - 1, torch.max(rs[:, 0, :]).cpu() + 1)\n",
    "# y_lim = (torch.min(rs[:, 1, :]).cpu() - 1, torch.max(rs[:, 1, :]).cpu() + 1)\n",
    "\n",
    "x_lim, y_lim = (0, 1), (0, 1)\n",
    "\n",
    "markersize = 2 * radius * ax[0].get_window_extent().width  / (vmax-vmin) * 72./fig.dpi\n",
    "spring, = ax[0].plot([], [], 'o', color='black', markersize=10*markersize)\n",
    "red, = ax[0].plot([], [], 'o', color='red', markersize=markersize)\n",
    "blue, = ax[0].plot([], [], 'o', color='blue', markersize=markersize)\n",
    "force, = ax[1].plot([], [], color='k')\n",
    "\n",
    "def animate(i):\n",
    "    if i % 10 == 0:\n",
    "        print(f\"Process: {i}/{frames_c}\")\n",
    "    xred, yred = rs[i][0][ixr], rs[i][1][ixr]\n",
    "    xblue, yblue = rs[i][0][ixl],rs[i][1][ixl]\n",
    "    x_spring, y_spring = rs[i][0][0:2], rs[i][1][0:2]\n",
    "    # red.set_data(xred, yred)\n",
    "    # blue.set_data(xblue, yblue)\n",
    "    # force.set_data(np.arange(1_000)[0:i], fs.norm(dim=1)[0:i])\n",
    "    # return [(red, blue), force]\n",
    "\n",
    "    ax[0].clear()\n",
    "    ax[1].clear()\n",
    "\n",
    "    ax[0].scatter(xred, yred, color='red')\n",
    "    ax[0].scatter(xblue, yblue, color='blue')\n",
    "    ax[0].scatter(x_spring, y_spring, color='black', s=5*(plt.rcParams['lines.markersize'] ** 2))\n",
    "    # ax[1].plot(np.arange(10_000)[0:i], fs.norm(dim=1)[0:i])\n",
    "    ax[1].plot(np.arange(10_000)[0:i], fs[0:i])\n",
    "\n",
    "    ax[0].set_xlim(x_lim)\n",
    "    ax[0].set_ylim(y_lim)\n",
    "\n",
    "writer = animation.FFMpegWriter(fps=30)\n",
    "ani = animation.FuncAnimation(fig, animate, frames=frames_c, interval=25, blit=False)\n",
    "path = pathlib.Path('./anim_brown_spring_own.mp4')\n",
    "ani.save(path, writer=writer, dpi=100)"
   ],
   "metadata": {
    "collapsed": false,
    "ExecuteTime": {
     "end_time": "2023-10-28T21:29:15.334769500Z",
     "start_time": "2023-10-28T21:16:27.705691700Z"
    }
   },
   "id": "21e94da21359235a"
  },
  {
   "cell_type": "code",
   "execution_count": 27,
   "outputs": [
    {
     "data": {
      "text/plain": "[<matplotlib.lines.Line2D at 0x2627fa1ab10>]"
     },
     "execution_count": 27,
     "metadata": {},
     "output_type": "execute_result"
    },
    {
     "data": {
      "text/plain": "<Figure size 800x600 with 1 Axes>",
      "image/png": "[encoded data removed]"
     },
     "metadata": {},
     "output_type": "display_data"
    }
   ],
   "source": [
    "plt.plot(np.arange(frames_c), fs)"
   ],
   "metadata": {
    "collapsed": false,
    "ExecuteTime": {
     "end_time": "2023-10-28T21:29:15.485993400Z",
     "start_time": "2023-10-28T21:29:15.331773600Z"
    }
   },
   "id": "9a11f7b831e8a8a6"
  },
  {
   "cell_type": "code",
   "execution_count": 28,
   "outputs": [
    {
     "data": {
      "text/plain": "-0.2499995346573306"
     },
     "execution_count": 28,
     "metadata": {},
     "output_type": "execute_result"
    }
   ],
   "source": [
    "np.min(fs)"
   ],
   "metadata": {
    "collapsed": false,
    "ExecuteTime": {
     "end_time": "2023-10-28T21:29:15.492239500Z",
     "start_time": "2023-10-28T21:29:15.484994200Z"
    }
   },
   "id": "15343ac39eff1544"
  },
  {
   "cell_type": "code",
   "execution_count": 29,
   "outputs": [
    {
     "data": {
      "text/plain": "36.0"
     },
     "execution_count": 29,
     "metadata": {},
     "output_type": "execute_result"
    }
   ],
   "source": [
    "plt.rcParams['lines.markersize'] ** 2"
   ],
   "metadata": {
    "collapsed": false,
    "ExecuteTime": {
     "end_time": "2023-10-28T21:29:15.494786500Z",
     "start_time": "2023-10-28T21:29:15.490367200Z"
    }
   },
   "id": "1caceaec00d9fa53"
  },
  {
   "cell_type": "code",
   "execution_count": 30,
   "outputs": [],
   "source": [
    "# force.min()"
   ],
   "metadata": {
    "collapsed": false,
    "ExecuteTime": {
     "end_time": "2023-10-28T21:29:15.502154Z",
     "start_time": "2023-10-28T21:29:15.493241200Z"
    }
   },
   "id": "adcd91f64ca0a2a4"
  },
  {
   "cell_type": "code",
   "execution_count": 31,
   "outputs": [],
   "source": [
    "from scipy import fft"
   ],
   "metadata": {
    "collapsed": false,
    "ExecuteTime": {
     "end_time": "2023-10-28T21:29:15.502154Z",
     "start_time": "2023-10-28T21:29:15.497300200Z"
    }
   },
   "id": "c52102b368215c0d"
  },
  {
   "cell_type": "code",
   "execution_count": 32,
   "outputs": [
    {
     "ename": "AttributeError",
     "evalue": "'numpy.ndarray' object has no attribute 'cpu'",
     "output_type": "error",
     "traceback": [
      "\u001B[1;31m---------------------------------------------------------------------------\u001B[0m",
      "\u001B[1;31mAttributeError\u001B[0m                            Traceback (most recent call last)",
      "Cell \u001B[1;32mIn[32], line 2\u001B[0m\n\u001B[0;32m      1\u001B[0m \u001B[38;5;66;03m# force = fs.norm(dim=1).cpu().numpy()\u001B[39;00m\n\u001B[1;32m----> 2\u001B[0m force \u001B[38;5;241m=\u001B[39m \u001B[43mfs\u001B[49m\u001B[38;5;241;43m.\u001B[39;49m\u001B[43mcpu\u001B[49m()\n\u001B[0;32m      3\u001B[0m force \u001B[38;5;241m-\u001B[39m\u001B[38;5;241m=\u001B[39m (force[\u001B[38;5;241m-\u001B[39m\u001B[38;5;241m1\u001B[39m] \u001B[38;5;241m-\u001B[39m force[\u001B[38;5;241m0\u001B[39m]) \u001B[38;5;241m*\u001B[39m np\u001B[38;5;241m.\u001B[39mlinspace(\u001B[38;5;241m0\u001B[39m, \u001B[38;5;241m1\u001B[39m, num\u001B[38;5;241m=\u001B[39mframes_c) \u001B[38;5;241m+\u001B[39m force[\u001B[38;5;241m0\u001B[39m]\n\u001B[0;32m      4\u001B[0m force_fft \u001B[38;5;241m=\u001B[39m fft\u001B[38;5;241m.\u001B[39mfft(force)\n",
      "\u001B[1;31mAttributeError\u001B[0m: 'numpy.ndarray' object has no attribute 'cpu'"
     ]
    }
   ],
   "source": [
    "# force = fs.norm(dim=1).cpu().numpy()\n",
    "force = fs.cpu()\n",
    "force -= (force[-1] - force[0]) * np.linspace(0, 1, num=frames_c) + force[0]\n",
    "force_fft = fft.fft(force)"
   ],
   "metadata": {
    "collapsed": false,
    "ExecuteTime": {
     "end_time": "2023-10-28T21:29:15.580239400Z",
     "start_time": "2023-10-28T21:29:15.500220400Z"
    }
   },
   "id": "aca48c160d553a55"
  },
  {
   "cell_type": "code",
   "execution_count": null,
   "outputs": [],
   "source": [
    "plt.plot(force_fft[10000:-10000])"
   ],
   "metadata": {
    "collapsed": false,
    "ExecuteTime": {
     "start_time": "2023-10-28T21:29:15.550238700Z"
    }
   },
   "id": "421955d316bce27c"
  },
  {
   "cell_type": "code",
   "execution_count": null,
   "outputs": [],
   "source": [
    "force[-1]"
   ],
   "metadata": {
    "collapsed": false,
    "ExecuteTime": {
     "start_time": "2023-10-28T21:29:15.551220100Z"
    }
   },
   "id": "7770f059c8d68d5"
  },
  {
   "cell_type": "code",
   "execution_count": null,
   "outputs": [],
   "source": [
    "torch.range(start=0, end=10)"
   ],
   "metadata": {
    "collapsed": false,
    "ExecuteTime": {
     "start_time": "2023-10-28T21:29:15.553221900Z"
    }
   },
   "id": "bb24a665635bf506"
  },
  {
   "cell_type": "code",
   "execution_count": null,
   "outputs": [],
   "source": [],
   "metadata": {
    "collapsed": false,
    "ExecuteTime": {
     "start_time": "2023-10-28T21:29:15.555219300Z"
    }
   },
   "id": "8b1db592efb01560"
  }
 ],
 "metadata": {
  "kernelspec": {
   "display_name": "Python 3",
   "language": "python",
   "name": "python3"
  },
  "language_info": {
   "codemirror_mode": {
    "name": "ipython",
    "version": 2
   },
   "file_extension": ".py",
   "mimetype": "text/x-python",
   "name": "python",
   "nbconvert_exporter": "python",
   "pygments_lexer": "ipython2",
   "version": "2.7.6"
  }
 },
 "nbformat": 4,
 "nbformat_minor": 5
}
